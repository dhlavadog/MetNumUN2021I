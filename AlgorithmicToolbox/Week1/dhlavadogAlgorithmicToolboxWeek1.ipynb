{
  "nbformat": 4,
  "nbformat_minor": 0,
  "metadata": {
    "colab": {
      "name": "dhlavadogAlgorithmicToolboxWeek1.ipynb",
      "provenance": [],
      "collapsed_sections": []
    },
    "kernelspec": {
      "display_name": "Python 3",
      "name": "python3"
    },
    "language_info": {
      "name": "python"
    }
  },
  "cells": [
    {
      "cell_type": "markdown",
      "metadata": {
        "id": "XegXiWPoBKtE"
      },
      "source": [
        "\n",
        "##**I. Sum of two digits**\n",
        "\n",
        "> ### **C++**"
      ]
    },
    {
      "cell_type": "code",
      "metadata": {
        "colab": {
          "base_uri": "https://localhost:8080/"
        },
        "id": "z6m12BODA0xJ",
        "outputId": "dafdf035-f355-48ba-8eb9-f0dbf9a93b5b"
      },
      "source": [
        "%%writefile main.cpp\n",
        "#include <iostream>\n",
        "\n",
        "using namespace std;\n",
        "\n",
        "int sumNum(int a, int b)\n",
        "{\n",
        "  return a+b;\n",
        "} \n",
        "\n",
        "int main()\n",
        "{\n",
        "    int a,b;\n",
        "    cin>>a>>b;\n",
        "    cout<<sumNum(a,b);\n",
        "    return 0;\n",
        "}"
      ],
      "execution_count": 49,
      "outputs": [
        {
          "output_type": "stream",
          "text": [
            "Writing main.cpp\n"
          ],
          "name": "stdout"
        }
      ]
    },
    {
      "cell_type": "code",
      "metadata": {
        "colab": {
          "base_uri": "https://localhost:8080/"
        },
        "id": "45lJZkL5GhQR",
        "outputId": "57a77867-e729-43b4-c3aa-0506178d1cf0"
      },
      "source": [
        "!g++ main.cpp -o main\n",
        "!./main"
      ],
      "execution_count": 50,
      "outputs": [
        {
          "output_type": "stream",
          "text": [
            "8 7\n",
            "15"
          ],
          "name": "stdout"
        }
      ]
    },
    {
      "cell_type": "markdown",
      "metadata": {
        "id": "n_8VEcmNJ3An"
      },
      "source": [
        " ### **Test files:**\n",
        "\n",
        " Test 1 (valor erroneo en el archivo de salida).\n",
        "\n",
        "*Input file:*"
      ]
    },
    {
      "cell_type": "code",
      "metadata": {
        "colab": {
          "base_uri": "https://localhost:8080/"
        },
        "id": "tqRgIfAAJzJA",
        "outputId": "dc5d0df2-fd80-4a11-9be6-af89da2ff7f4"
      },
      "source": [
        "%%writefile test1.in\n",
        "8 -2"
      ],
      "execution_count": null,
      "outputs": [
        {
          "output_type": "stream",
          "text": [
            "Overwriting test1.in\n"
          ],
          "name": "stdout"
        }
      ]
    },
    {
      "cell_type": "markdown",
      "metadata": {
        "id": "FkJxBxA7Lx4_"
      },
      "source": [
        "*Output file:*"
      ]
    },
    {
      "cell_type": "code",
      "metadata": {
        "colab": {
          "base_uri": "https://localhost:8080/"
        },
        "id": "0fAuj1ktLJIZ",
        "outputId": "f97f2f06-95f1-4a79-ff59-7e1133a33ad2"
      },
      "source": [
        "%%writefile test1.out\n",
        "3 #Poniendo un valor incorrecto en el archivo de salida (la respuesta es 6)"
      ],
      "execution_count": null,
      "outputs": [
        {
          "output_type": "stream",
          "text": [
            "Overwriting test1.out\n"
          ],
          "name": "stdout"
        }
      ]
    },
    {
      "cell_type": "markdown",
      "metadata": {
        "id": "2UjuA6QaL-lr"
      },
      "source": [
        "*Test 1 Execution (Using `grep`)*\n",
        "\n",
        "La respuesta me muestra en pantalla el valor cuando el archivo de salida `test1.out` no tiene el valor correcto."
      ]
    },
    {
      "cell_type": "code",
      "metadata": {
        "colab": {
          "base_uri": "https://localhost:8080/"
        },
        "id": "B0Of8mzKMN4r",
        "outputId": "31f2e7cd-f203-44d9-c008-0891cbf815c9"
      },
      "source": [
        "!./main <test1.in> result.out\n",
        "!grep -xvFf test1.out result.out\n"
      ],
      "execution_count": null,
      "outputs": [
        {
          "output_type": "stream",
          "text": [
            "6\n"
          ],
          "name": "stdout"
        }
      ]
    },
    {
      "cell_type": "markdown",
      "metadata": {
        "id": "px00V7LQGWG1"
      },
      "source": [
        "Test 2 (valores de entredada y salida correctos)\n",
        "\n",
        "*Input files*"
      ]
    },
    {
      "cell_type": "code",
      "metadata": {
        "colab": {
          "base_uri": "https://localhost:8080/"
        },
        "id": "Cp25hOM3GfFf",
        "outputId": "2738f970-ae06-4ef6-aac6-7df08f1e0ed6"
      },
      "source": [
        "%%writefile test2.in\n",
        "12 9\n"
      ],
      "execution_count": null,
      "outputs": [
        {
          "output_type": "stream",
          "text": [
            "Overwriting test2.in\n"
          ],
          "name": "stdout"
        }
      ]
    },
    {
      "cell_type": "markdown",
      "metadata": {
        "id": "dbjbaBBKH7rA"
      },
      "source": [
        "*Output files*"
      ]
    },
    {
      "cell_type": "code",
      "metadata": {
        "colab": {
          "base_uri": "https://localhost:8080/"
        },
        "id": "PdRbP0CoG1zP",
        "outputId": "370d45be-0843-42aa-baf3-1236f64fd7c2"
      },
      "source": [
        "%%writefile test2.out\n",
        "21"
      ],
      "execution_count": null,
      "outputs": [
        {
          "output_type": "stream",
          "text": [
            "Writing test2.out\n"
          ],
          "name": "stdout"
        }
      ]
    },
    {
      "cell_type": "markdown",
      "metadata": {
        "id": "QBMJ_Ko_HKG-"
      },
      "source": [
        "Test 2 Execution (using **`grep`**)\n",
        "\n",
        "*Al coincidir los datos de entrada con la salida de los archivos, no hay impresión en pantalla. Correcto.*"
      ]
    },
    {
      "cell_type": "code",
      "metadata": {
        "id": "xFW3W6PsHImF"
      },
      "source": [
        "!./main <test2.in> result.out\n",
        "!grep -xvFf test2.out result.out"
      ],
      "execution_count": null,
      "outputs": []
    },
    {
      "cell_type": "markdown",
      "metadata": {
        "id": "K9MNvuRPIaJL"
      },
      "source": [
        "Test 3 (Ambos valores negativos) \\\\\n",
        "*Input files*"
      ]
    },
    {
      "cell_type": "code",
      "metadata": {
        "colab": {
          "base_uri": "https://localhost:8080/"
        },
        "id": "WgppDytrIlQQ",
        "outputId": "1dd0f8ad-0537-47de-f6c3-f804a15afb9a"
      },
      "source": [
        "%%writefile test3.in\n",
        "-3 -13"
      ],
      "execution_count": null,
      "outputs": [
        {
          "output_type": "stream",
          "text": [
            "Writing test3.in\n"
          ],
          "name": "stdout"
        }
      ]
    },
    {
      "cell_type": "markdown",
      "metadata": {
        "id": "JftJDnDKItgs"
      },
      "source": [
        "*Output files* "
      ]
    },
    {
      "cell_type": "code",
      "metadata": {
        "colab": {
          "base_uri": "https://localhost:8080/"
        },
        "id": "kyJVZje9I_QT",
        "outputId": "ec21836c-96d8-4bba-ec39-d31a44113681"
      },
      "source": [
        "%%writefile test3.out \n",
        "-16"
      ],
      "execution_count": null,
      "outputs": [
        {
          "output_type": "stream",
          "text": [
            "Writing test3.out\n"
          ],
          "name": "stdout"
        }
      ]
    },
    {
      "cell_type": "markdown",
      "metadata": {
        "id": "EczBjurHJhIF"
      },
      "source": [
        "Test 3 Execution (Using **grep**)"
      ]
    },
    {
      "cell_type": "code",
      "metadata": {
        "id": "fs0WPPMwJmTr"
      },
      "source": [
        "!./main <test3.in> result.out\n",
        "!grep -xvFf test3.out result.out"
      ],
      "execution_count": null,
      "outputs": []
    },
    {
      "cell_type": "code",
      "metadata": {
        "colab": {
          "base_uri": "https://localhost:8080/"
        },
        "id": "JrQnm-aXKVXW",
        "outputId": "dd70013b-2ea7-4d3c-d366-7f28f564caef"
      },
      "source": [
        "!./main <test1.in\n"
      ],
      "execution_count": null,
      "outputs": [
        {
          "output_type": "stream",
          "text": [
            "6"
          ],
          "name": "stdout"
        }
      ]
    },
    {
      "cell_type": "markdown",
      "metadata": {
        "id": "eEX0RlH5K2Yf"
      },
      "source": [
        "> ### **Python**"
      ]
    },
    {
      "cell_type": "code",
      "metadata": {
        "colab": {
          "base_uri": "https://localhost:8080/"
        },
        "id": "D6rCfIK6K8IM",
        "outputId": "7895526f-4750-4679-d556-8d0910b0da15"
      },
      "source": [
        "%%writefile mainPy.py\n",
        "def sumNum(a,b):\n",
        "  return a+b\n",
        "\n",
        "a,b= map(int,input().split())\n",
        "print(sumNum(a,b))"
      ],
      "execution_count": null,
      "outputs": [
        {
          "output_type": "stream",
          "text": [
            "Writing mainPy.py\n"
          ],
          "name": "stdout"
        }
      ]
    },
    {
      "cell_type": "markdown",
      "metadata": {
        "id": "nBTn5D4-MbuQ"
      },
      "source": [
        "Executing text 1 in Python\n",
        "\n",
        "*Input file* "
      ]
    },
    {
      "cell_type": "code",
      "metadata": {
        "colab": {
          "base_uri": "https://localhost:8080/"
        },
        "id": "4pb8zdBXLpBA",
        "outputId": "d3cace89-83da-4c4d-cf28-e55de4b77a35"
      },
      "source": [
        "%%writefile testPy1.in\n",
        "12 -8 "
      ],
      "execution_count": null,
      "outputs": [
        {
          "output_type": "stream",
          "text": [
            "Writing testPy1.in\n"
          ],
          "name": "stdout"
        }
      ]
    },
    {
      "cell_type": "markdown",
      "metadata": {
        "id": "YmDFDGH8MlTd"
      },
      "source": [
        "*Output file*"
      ]
    },
    {
      "cell_type": "code",
      "metadata": {
        "colab": {
          "base_uri": "https://localhost:8080/"
        },
        "id": "mHYb2feaMRZF",
        "outputId": "04e12348-3439-4ee1-9d69-af695f4de0a5"
      },
      "source": [
        "%%writefile testPy1.out\n",
        "4"
      ],
      "execution_count": null,
      "outputs": [
        {
          "output_type": "stream",
          "text": [
            "Writing testPy1.out\n"
          ],
          "name": "stdout"
        }
      ]
    },
    {
      "cell_type": "markdown",
      "metadata": {
        "id": "-mW6z-p2M7lt"
      },
      "source": [
        "*Executing test1 in Python*"
      ]
    },
    {
      "cell_type": "code",
      "metadata": {
        "id": "6LKr_YIOMaNB"
      },
      "source": [
        "!./main <testPy1.in> result.out\n",
        "!grep -xvFf testPy1.out result.out"
      ],
      "execution_count": null,
      "outputs": []
    },
    {
      "cell_type": "markdown",
      "metadata": {
        "id": "4zR_SVmYNOEg"
      },
      "source": [
        "Executing test 2 in Python\n",
        "\n",
        "*Input file*"
      ]
    },
    {
      "cell_type": "code",
      "metadata": {
        "colab": {
          "base_uri": "https://localhost:8080/"
        },
        "id": "-Hcpz3mMNT-V",
        "outputId": "485c37bf-49af-4e49-a895-d00dfe24c906"
      },
      "source": [
        "%%writefile testPy2.in\n",
        "8 3"
      ],
      "execution_count": null,
      "outputs": [
        {
          "output_type": "stream",
          "text": [
            "Writing testPy2.in\n"
          ],
          "name": "stdout"
        }
      ]
    },
    {
      "cell_type": "markdown",
      "metadata": {
        "id": "N0jOtV6rNba2"
      },
      "source": [
        "Output file (wrong answer)"
      ]
    },
    {
      "cell_type": "code",
      "metadata": {
        "colab": {
          "base_uri": "https://localhost:8080/"
        },
        "id": "RU6NkFSUNa38",
        "outputId": "99dbf010-1c47-4fe5-be13-2e33a20ad4dc"
      },
      "source": [
        "%%writefile testPy2.out\n",
        "15"
      ],
      "execution_count": null,
      "outputs": [
        {
          "output_type": "stream",
          "text": [
            "Overwriting testPy2.out\n"
          ],
          "name": "stdout"
        }
      ]
    },
    {
      "cell_type": "markdown",
      "metadata": {
        "id": "r8LMy9OgNtIY"
      },
      "source": [
        "Executing test 2 in Python\n",
        "\n",
        "*Muestra en pantalla el resultado correcto.*"
      ]
    },
    {
      "cell_type": "code",
      "metadata": {
        "colab": {
          "base_uri": "https://localhost:8080/"
        },
        "id": "sAzfOl9xN1tx",
        "outputId": "9d4866d1-50de-4462-f992-741867ca4dd0"
      },
      "source": [
        "!./main <testPy2.in> result.out\n",
        "!grep -xvFf testPy2.out result.out"
      ],
      "execution_count": null,
      "outputs": [
        {
          "output_type": "stream",
          "text": [
            "11\n"
          ],
          "name": "stdout"
        }
      ]
    },
    {
      "cell_type": "markdown",
      "metadata": {
        "id": "bZG3XFQUON_m"
      },
      "source": [
        "Test 3 in Python\n",
        "\n",
        "*Input file*"
      ]
    },
    {
      "cell_type": "code",
      "metadata": {
        "colab": {
          "base_uri": "https://localhost:8080/"
        },
        "id": "kiL6g-SPOb1d",
        "outputId": "52b20a86-323e-4391-f3c2-65ba04132974"
      },
      "source": [
        "%%writefile testPy3.in\n",
        "-15 -4"
      ],
      "execution_count": null,
      "outputs": [
        {
          "output_type": "stream",
          "text": [
            "Overwriting testPy3.in\n"
          ],
          "name": "stdout"
        }
      ]
    },
    {
      "cell_type": "markdown",
      "metadata": {
        "id": "Wbc9e2byOmp1"
      },
      "source": [
        ">>> Output file"
      ]
    },
    {
      "cell_type": "code",
      "metadata": {
        "colab": {
          "base_uri": "https://localhost:8080/"
        },
        "id": "d5KB1rPwOo4F",
        "outputId": "77f1cb77-a669-49f0-c642-4d3a813e1d7c"
      },
      "source": [
        "%%writefile testPy3.out\n",
        "-19"
      ],
      "execution_count": null,
      "outputs": [
        {
          "output_type": "stream",
          "text": [
            "Writing testPy3.out\n"
          ],
          "name": "stdout"
        }
      ]
    },
    {
      "cell_type": "markdown",
      "metadata": {
        "id": "E8-ySm0kPDmR"
      },
      "source": [
        "Executing test 3 in Python"
      ]
    },
    {
      "cell_type": "code",
      "metadata": {
        "id": "XdVW4W7ZPWDJ"
      },
      "source": [
        "!./main <testPy3.in> result.out\n",
        "!grep -xvFf testPy3.out result.out"
      ],
      "execution_count": null,
      "outputs": []
    },
    {
      "cell_type": "markdown",
      "metadata": {
        "id": "b4_GhWQlQO8e"
      },
      "source": [
        "## **II. Maximun Pairwise Product**\n",
        "\n",
        "> #### *Naive algorithm*\n",
        "\n",
        ">> ### **C++**"
      ]
    },
    {
      "cell_type": "code",
      "metadata": {
        "colab": {
          "base_uri": "https://localhost:8080/"
        },
        "id": "uyaUPt-gVqn5",
        "outputId": "d4126a3e-6027-4425-a0eb-fc3645cbec7a"
      },
      "source": [
        "%%writefile maxPairWiseProdAlg1.cpp\n",
        "\n",
        "#include <iostream>\n",
        "#include <vector>\n",
        "#include <algorithm>\n",
        "\n",
        "using namespace std;\n",
        "\n",
        "int maxPairWiseProduct(const vector<int>& numbers)\n",
        "{\n",
        "    int product= 0;\n",
        "    int n = numbers.size();\n",
        " \n",
        "    for(int i=0; i<n; ++i)\n",
        "    {\n",
        "        for(int j=i+1; j<n ; ++j)\n",
        "        {\n",
        "            product = max(product, numbers[i]*numbers[j]);\n",
        "        }\n",
        "    }\n",
        "    return product;\n",
        "}\n",
        "\n",
        "int main()\n",
        "{\n",
        "    int n;\n",
        "    cin>>n;\n",
        "    vector<int> numbers(n);\n",
        "    for(int i=0; i<n; ++i)\n",
        "    {\n",
        "        cin>> numbers[i];\n",
        "    }\n",
        " \n",
        "    cout<<maxPairWiseProduct(numbers)<<\"\\n\";\n",
        "    return 0;\n",
        "\n",
        "}"
      ],
      "execution_count": 58,
      "outputs": [
        {
          "output_type": "stream",
          "text": [
            "Writing maxPairWiseProdAlg1.cpp\n"
          ],
          "name": "stdout"
        }
      ]
    },
    {
      "cell_type": "code",
      "metadata": {
        "colab": {
          "base_uri": "https://localhost:8080/"
        },
        "id": "y5_kEioAcmc8",
        "outputId": "112e7745-6915-4569-ecd0-74dc89ce17ff"
      },
      "source": [
        "%%time\n",
        "!g++ maxPairWiseProdAlg1.cpp -o run\n",
        "!./run"
      ],
      "execution_count": 59,
      "outputs": [
        {
          "output_type": "stream",
          "text": [
            "5\n",
            "8 4 6 5 9\n",
            "72\n",
            "CPU times: user 928 ms, sys: 121 ms, total: 1.05 s\n",
            "Wall time: 2min 44s\n"
          ],
          "name": "stdout"
        }
      ]
    },
    {
      "cell_type": "markdown",
      "metadata": {
        "id": "V7Q3lE2p7H6z"
      },
      "source": [
        "**Edge Case**"
      ]
    },
    {
      "cell_type": "code",
      "metadata": {
        "colab": {
          "base_uri": "https://localhost:8080/"
        },
        "id": "fOngGiP97PqA",
        "outputId": "0d1738bd-361d-49b5-8566-758ab4c6a75a"
      },
      "source": [
        "%%writefile edgeCase.in\n",
        "6\n",
        "200000 4 7 200000 8 9"
      ],
      "execution_count": 73,
      "outputs": [
        {
          "output_type": "stream",
          "text": [
            "Overwriting edgeCase.in\n"
          ],
          "name": "stdout"
        }
      ]
    },
    {
      "cell_type": "markdown",
      "metadata": {
        "id": "c4YF4voe88bC"
      },
      "source": [
        "*Result:*"
      ]
    },
    {
      "cell_type": "code",
      "metadata": {
        "colab": {
          "base_uri": "https://localhost:8080/"
        },
        "id": "nzw5ulaJ8bm7",
        "outputId": "b6107fa9-e7cf-4376-c73f-3b90dc49b0d2"
      },
      "source": [
        "%time\n",
        "!./run <edgeCase.in"
      ],
      "execution_count": 61,
      "outputs": [
        {
          "output_type": "stream",
          "text": [
            "CPU times: user 4 µs, sys: 0 ns, total: 4 µs\n",
            "Wall time: 8.82 µs\n",
            "1345294336\n"
          ],
          "name": "stdout"
        }
      ]
    },
    {
      "cell_type": "markdown",
      "metadata": {
        "id": "0ZP3RI3H__NT"
      },
      "source": [
        ">### **Python**"
      ]
    },
    {
      "cell_type": "code",
      "metadata": {
        "colab": {
          "base_uri": "https://localhost:8080/"
        },
        "id": "iPVW8DcYAKmQ",
        "outputId": "0ad561c0-f924-43d1-8f03-7c2aaafa8975"
      },
      "source": [
        "%%writefile maxPairWiseProdAlg1.py\n",
        "n = int(input())\n",
        "a = [int(x) for x in input().split()]\n",
        "\n",
        "product = 0\n",
        "\n",
        "for i in range(n):\n",
        "  for j in range(i+1, n):\n",
        "    product = max(product, a[i]*a[j])\n",
        "\n",
        "print(product)"
      ],
      "execution_count": 62,
      "outputs": [
        {
          "output_type": "stream",
          "text": [
            "Writing maxPairWiseProdAlg1.py\n"
          ],
          "name": "stdout"
        }
      ]
    },
    {
      "cell_type": "code",
      "metadata": {
        "colab": {
          "base_uri": "https://localhost:8080/"
        },
        "id": "yl4ZZ_bTBMon",
        "outputId": "173bd5ba-f9e9-41d1-d013-a362af86a619"
      },
      "source": [
        "%%time\n",
        "!python maxPairWiseProdAlg1.py "
      ],
      "execution_count": 63,
      "outputs": [
        {
          "output_type": "stream",
          "text": [
            "4\n",
            "7 11 5 4\n",
            "77\n",
            "CPU times: user 166 ms, sys: 28.4 ms, total: 195 ms\n",
            "Wall time: 26.6 s\n"
          ],
          "name": "stdout"
        }
      ]
    },
    {
      "cell_type": "markdown",
      "metadata": {
        "id": "WUtjH1VGDVr0"
      },
      "source": [
        "**Edge case in Python:**"
      ]
    },
    {
      "cell_type": "code",
      "metadata": {
        "colab": {
          "base_uri": "https://localhost:8080/"
        },
        "id": "IXgvuK52DZat",
        "outputId": "f4223f20-9c9f-4d39-97de-e3b092df49a2"
      },
      "source": [
        "%time\n",
        "!python maxPairWiseProdAlg1.py < edgeCase.in"
      ],
      "execution_count": 64,
      "outputs": [
        {
          "output_type": "stream",
          "text": [
            "CPU times: user 2 µs, sys: 0 ns, total: 2 µs\n",
            "Wall time: 5.25 µs\n",
            "40000000000\n"
          ],
          "name": "stdout"
        }
      ]
    },
    {
      "cell_type": "markdown",
      "metadata": {
        "id": "d190uwb9U4jy"
      },
      "source": [
        "#### *Fast Algorithm*\n",
        "> ### **C++**"
      ]
    },
    {
      "cell_type": "code",
      "metadata": {
        "id": "ERfLRo9oVJpj",
        "colab": {
          "base_uri": "https://localhost:8080/"
        },
        "outputId": "f9f3f154-9c8d-4547-9958-22b75c27283f"
      },
      "source": [
        "%%writefile maxPairWiseProdAlg2.cpp\n",
        "\n",
        "#include <iostream>\n",
        "#include <vector>\n",
        "#include <algorithm>\n",
        "\n",
        "using namespace std;\n",
        "\n",
        "void maxPairwiseProductFast(int n, vector<long long> &number)\n",
        "{\n",
        "    sort(number.begin(), number.end());\n",
        "    if(number[n-1]== number[n-2])\n",
        "    {\n",
        "        cout<< number[n-1]*number[n-3]<<endl;\n",
        "    }   \n",
        "    else\n",
        "    {\n",
        "        cout<< number[n-1]*number[n-2]<<endl;\n",
        "    }\n",
        "}\n",
        "\n",
        "int main()\n",
        "{\n",
        "    int n;\n",
        "    cin>>n;\n",
        "    vector<long long> numbers(n);\n",
        "    for(int i=0; i<n; i++)\n",
        "    {\n",
        "        cin>> numbers[i];\n",
        "    }\n",
        " \n",
        "    sort(numbers.begin(), numbers.end());\n",
        " \n",
        "    maxPairwiseProductFast(n, numbers);\n",
        "    return 0;\n",
        "}\n"
      ],
      "execution_count": 65,
      "outputs": [
        {
          "output_type": "stream",
          "text": [
            "Overwriting maxPairWiseProdAlg2.cpp\n"
          ],
          "name": "stdout"
        }
      ]
    },
    {
      "cell_type": "code",
      "metadata": {
        "colab": {
          "base_uri": "https://localhost:8080/"
        },
        "id": "qETuC3uRNJOU",
        "outputId": "4f62f921-91c0-4365-9131-b5897728a9fc"
      },
      "source": [
        "!g++ maxPairWiseProdAlg2.cpp -o run\n",
        "!./run"
      ],
      "execution_count": 66,
      "outputs": [
        {
          "output_type": "stream",
          "text": [
            "5\n",
            "\n",
            "12 8 1 5 12 \n",
            "96\n"
          ],
          "name": "stdout"
        }
      ]
    },
    {
      "cell_type": "markdown",
      "metadata": {
        "id": "Mchu_fepV-vM"
      },
      "source": [
        "***EdgeCase Test***\n",
        "\n",
        "Aqui usamos nuevamente el archivo `edgeCase.in` creado en el pasado con entradas: \\\\\n",
        "`6`\n",
        "\n",
        "`200000 4 7 200000 8 9` "
      ]
    },
    {
      "cell_type": "code",
      "metadata": {
        "colab": {
          "base_uri": "https://localhost:8080/"
        },
        "id": "Nupb7h7TWFfk",
        "outputId": "ed4b639c-bd3c-4f1f-c304-e5f095492e6d"
      },
      "source": [
        "%time\n",
        "!./run < edgeCase.in"
      ],
      "execution_count": 67,
      "outputs": [
        {
          "output_type": "stream",
          "text": [
            "CPU times: user 4 µs, sys: 1 µs, total: 5 µs\n",
            "Wall time: 9.54 µs\n",
            "1800000\n"
          ],
          "name": "stdout"
        }
      ]
    },
    {
      "cell_type": "markdown",
      "metadata": {
        "id": "v3UTeLLnXTBf"
      },
      "source": [
        "> ### **Python**"
      ]
    },
    {
      "cell_type": "code",
      "metadata": {
        "colab": {
          "base_uri": "https://localhost:8080/"
        },
        "id": "VP2RA-R-CdZC",
        "outputId": "88c2bc70-05dc-42bc-9e19-4c41cc3c2ed1"
      },
      "source": [
        "%%writefile maxPairWiseProdAlg2.py\n",
        "\n",
        "def maxPairwiseProductFast(n,a):\n",
        "  a.sort()\n",
        "  if a[n-2] == a[n-1]:\n",
        "    print(a[n-3]*a[n-1])\n",
        "  else:\n",
        "    print(a[n-2]*a[n-1])\n",
        "\n",
        "\n",
        "n = int(input())\n",
        "a = [int(x) for x in input().split()]\n",
        "\n",
        "maxPairwiseProductFast(n,a)\n"
      ],
      "execution_count": 68,
      "outputs": [
        {
          "output_type": "stream",
          "text": [
            "Overwriting maxPairWiseProdAlg2.py\n"
          ],
          "name": "stdout"
        }
      ]
    },
    {
      "cell_type": "code",
      "metadata": {
        "colab": {
          "base_uri": "https://localhost:8080/"
        },
        "id": "Z0tPVTjJDgsS",
        "outputId": "401226e9-fea6-439c-9ab7-21c7dd48b03d"
      },
      "source": [
        "!python maxPairWiseProdAlg2.py"
      ],
      "execution_count": 69,
      "outputs": [
        {
          "output_type": "stream",
          "text": [
            "5\n",
            "8 4 1 2 8\n",
            "32\n"
          ],
          "name": "stdout"
        }
      ]
    },
    {
      "cell_type": "markdown",
      "metadata": {
        "id": "z8FV9tuwYFC9"
      },
      "source": [
        "**EdgeCase Test Python**\n",
        "\n",
        "\n",
        "Mismo archivo anteriormente mencionado."
      ]
    },
    {
      "cell_type": "code",
      "metadata": {
        "colab": {
          "base_uri": "https://localhost:8080/"
        },
        "id": "y7NVVG5hYINL",
        "outputId": "5b89a5ac-996c-4bf8-e2fd-826588a035e3"
      },
      "source": [
        "%time\n",
        "!python maxPairWiseProdAlg2.py < edgeCase.in"
      ],
      "execution_count": 72,
      "outputs": [
        {
          "output_type": "stream",
          "text": [
            "CPU times: user 0 ns, sys: 4 µs, total: 4 µs\n",
            "Wall time: 9.78 µs\n",
            "1800000\n"
          ],
          "name": "stdout"
        }
      ]
    },
    {
      "cell_type": "markdown",
      "metadata": {
        "id": "TOT052sUxGor"
      },
      "source": [
        "# **Screenshots Week 1 - Coursera**"
      ]
    },
    {
      "cell_type": "markdown",
      "metadata": {
        "id": "-l7grABhvlom"
      },
      "source": [
        "![Screenshot 1.PNG](data:image/png;base64,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)\n",
        "\n",
        "\n"
      ]
    },
    {
      "cell_type": "markdown",
      "metadata": {
        "id": "okMY5oXz0Gzy"
      },
      "source": [
        "![Screenshot 2.PNG](data:image/png;base64,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)"
      ]
    }
  ]
}