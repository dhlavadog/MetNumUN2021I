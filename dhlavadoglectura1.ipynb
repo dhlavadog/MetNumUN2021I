{
  "nbformat": 4,
  "nbformat_minor": 0,
  "metadata": {
    "kernelspec": {
      "name": "python3",
      "display_name": "Python 3"
    },
    "colab": {
      "name": "dhlavadoglectura1.ipynb",
      "provenance": [],
      "include_colab_link": true
    }
  },
  "cells": [
    {
      "cell_type": "markdown",
      "metadata": {
        "id": "view-in-github",
        "colab_type": "text"
      },
      "source": [
        "<a href=\"https://colab.research.google.com/github/dhlavadog/MetNumUN2021I/blob/main/dhlavadoglectura1.ipynb\" target=\"_parent\"><img src=\"https://colab.research.google.com/assets/colab-badge.svg\" alt=\"Open In Colab\"/></a>"
      ]
    },
    {
      "cell_type": "markdown",
      "metadata": {
        "id": "E-a51VkuRbEe"
      },
      "source": [
        "#**LECTURA 1**"
      ]
    },
    {
      "cell_type": "markdown",
      "metadata": {
        "id": "aFxEoIFnK8B_"
      },
      "source": [
        "#Introduction to the Research Environment\n",
        "\n",
        "The research environment is powered by IPython notebooks, which allow one to perform a great deal of data analysis and statistical validation. We'll demonstrate a few simple techniques here."
      ]
    },
    {
      "cell_type": "markdown",
      "metadata": {
        "id": "VsPMHKhQK8CX"
      },
      "source": [
        "##Code Cells vs. Text Cells\n",
        "\n",
        "As you can see, each cell can be either code or text. To select between them, choose from the 'Cell Type' dropdown menu on the top left."
      ]
    },
    {
      "cell_type": "markdown",
      "metadata": {
        "id": "aq5q200dK8CZ"
      },
      "source": [
        "##Executing a Command\n",
        "\n",
        "A code cell will be evaluated when you press play, or when you press the shortcut, shift-enter. Evaluating a cell evaluates each line of code in sequence, and prints the results of the last line below the cell."
      ]
    },
    {
      "cell_type": "code",
      "metadata": {
        "id": "lUD7owl1K8Ca",
        "colab": {
          "base_uri": "https://localhost:8080/"
        },
        "outputId": "7ae053f3-8f7c-4c5c-d647-b3a845dd564f"
      },
      "source": [
        "2 + 2"
      ],
      "execution_count": 35,
      "outputs": [
        {
          "output_type": "execute_result",
          "data": {
            "text/plain": [
              "4"
            ]
          },
          "metadata": {
            "tags": []
          },
          "execution_count": 35
        }
      ]
    },
    {
      "cell_type": "code",
      "metadata": {
        "colab": {
          "base_uri": "https://localhost:8080/"
        },
        "id": "RGwprprIRAz0",
        "outputId": "ab7a1d14-23d5-4bd4-9511-d9d1a2bf3d2f"
      },
      "source": [
        "3+5"
      ],
      "execution_count": 36,
      "outputs": [
        {
          "output_type": "execute_result",
          "data": {
            "text/plain": [
              "8"
            ]
          },
          "metadata": {
            "tags": []
          },
          "execution_count": 36
        }
      ]
    },
    {
      "cell_type": "markdown",
      "metadata": {
        "id": "DydjGrEiK8Cc"
      },
      "source": [
        "Sometimes there is no result to be printed, as is the case with assignment."
      ]
    },
    {
      "cell_type": "code",
      "metadata": {
        "collapsed": true,
        "id": "niiE64F0K8Cd"
      },
      "source": [
        "X = 2"
      ],
      "execution_count": 37,
      "outputs": []
    },
    {
      "cell_type": "code",
      "metadata": {
        "id": "CnfTCoZARE-M"
      },
      "source": [
        "a=18"
      ],
      "execution_count": 38,
      "outputs": []
    },
    {
      "cell_type": "markdown",
      "metadata": {
        "id": "tXuxstXaK8Ce"
      },
      "source": [
        "Remember that only the result from the last line is printed."
      ]
    },
    {
      "cell_type": "code",
      "metadata": {
        "id": "7wWkv_3tK8Cf",
        "colab": {
          "base_uri": "https://localhost:8080/"
        },
        "outputId": "0229a854-f39a-4614-cc8e-5e2e72edfd9c"
      },
      "source": [
        "2 + 2\n",
        "3 + 3"
      ],
      "execution_count": 39,
      "outputs": [
        {
          "output_type": "execute_result",
          "data": {
            "text/plain": [
              "6"
            ]
          },
          "metadata": {
            "tags": []
          },
          "execution_count": 39
        }
      ]
    },
    {
      "cell_type": "code",
      "metadata": {
        "colab": {
          "base_uri": "https://localhost:8080/"
        },
        "id": "z2DMr2slRKtr",
        "outputId": "6fb9d924-0fb2-4aa9-cedd-7e78dda8985d"
      },
      "source": [
        "15*8\r\n",
        "12-47\r\n",
        "98+12"
      ],
      "execution_count": 40,
      "outputs": [
        {
          "output_type": "execute_result",
          "data": {
            "text/plain": [
              "110"
            ]
          },
          "metadata": {
            "tags": []
          },
          "execution_count": 40
        }
      ]
    },
    {
      "cell_type": "markdown",
      "metadata": {
        "id": "MsNUNB3bK8Cg"
      },
      "source": [
        "However, you can print whichever lines you want using the `print` statement."
      ]
    },
    {
      "cell_type": "code",
      "metadata": {
        "id": "aVwDlRwZK8Ci",
        "colab": {
          "base_uri": "https://localhost:8080/"
        },
        "outputId": "fdd58ce3-686f-4233-9eb8-3ab5ebbe3e85"
      },
      "source": [
        "print (2 + 2)\n",
        "3 + 3"
      ],
      "execution_count": 41,
      "outputs": [
        {
          "output_type": "stream",
          "text": [
            "4\n"
          ],
          "name": "stdout"
        },
        {
          "output_type": "execute_result",
          "data": {
            "text/plain": [
              "6"
            ]
          },
          "metadata": {
            "tags": []
          },
          "execution_count": 41
        }
      ]
    },
    {
      "cell_type": "code",
      "metadata": {
        "colab": {
          "base_uri": "https://localhost:8080/"
        },
        "id": "mUl97fjkRtbV",
        "outputId": "3d11ead9-5849-4abd-fdb0-3ef4588ec389"
      },
      "source": [
        "print(15*8)\r\n",
        "print(12-47)\r\n",
        "98+12"
      ],
      "execution_count": 42,
      "outputs": [
        {
          "output_type": "stream",
          "text": [
            "120\n",
            "-35\n"
          ],
          "name": "stdout"
        },
        {
          "output_type": "execute_result",
          "data": {
            "text/plain": [
              "110"
            ]
          },
          "metadata": {
            "tags": []
          },
          "execution_count": 42
        }
      ]
    },
    {
      "cell_type": "markdown",
      "metadata": {
        "id": "vbFPwFhIK8Ck"
      },
      "source": [
        "##Knowing When a Cell is Running\n",
        "\n",
        "While a cell is running, a `[*]` will display on the left. When a cell has yet to be executed, `[ ]` will display. When it has been run, a number will display indicating the order in which it was run during the execution of the notebook `[5]`. Try on this cell and note it happening."
      ]
    },
    {
      "cell_type": "code",
      "metadata": {
        "id": "zxuzWFZQK8Cn",
        "colab": {
          "base_uri": "https://localhost:8080/"
        },
        "outputId": "2d400022-c83a-47c3-8cd0-a24e95b24216"
      },
      "source": [
        "#Take some time to run something\n",
        "c = 0\n",
        "for i in range(10000000):\n",
        "    c = c + i\n",
        "c"
      ],
      "execution_count": 43,
      "outputs": [
        {
          "output_type": "execute_result",
          "data": {
            "text/plain": [
              "49999995000000"
            ]
          },
          "metadata": {
            "tags": []
          },
          "execution_count": 43
        }
      ]
    },
    {
      "cell_type": "code",
      "metadata": {
        "colab": {
          "base_uri": "https://localhost:8080/"
        },
        "id": "u3kCb3J5TlL0",
        "outputId": "c2b1700d-82c4-4750-c51f-1e620b1816dc"
      },
      "source": [
        "text= \"Esta es una prueba\"\r\n",
        "nuevaLista=text.split()\r\n",
        "for item in nuevaLista:\r\n",
        "  print(item, end=\" \")"
      ],
      "execution_count": 44,
      "outputs": [
        {
          "output_type": "stream",
          "text": [
            "Esta es una prueba "
          ],
          "name": "stdout"
        }
      ]
    },
    {
      "cell_type": "markdown",
      "metadata": {
        "id": "2LdRdXdfK8Co"
      },
      "source": [
        "##Importing Libraries\n",
        "\n",
        "The vast majority of the time, you'll want to use functions from pre-built libraries. You can't import every library on Quantopian due to security issues, but you can import most of the common scientific ones. Here I import numpy and pandas, the two most common and useful libraries in quant finance. I recommend copying this import statement to every new notebook.\n",
        "\n",
        "Notice that you can rename libraries to whatever you want after importing. The `as` statement allows this. Here we use `np` and `pd` as aliases for `numpy` and `pandas`. This is a very common aliasing and will be found in most code snippets around the web. The point behind this is to allow you to type fewer characters when you are frequently accessing these libraries."
      ]
    },
    {
      "cell_type": "code",
      "metadata": {
        "collapsed": true,
        "id": "uy8t5nNZK8Cq"
      },
      "source": [
        "import numpy as np\n",
        "import pandas as pd\n",
        "\n",
        "# This is a plotting library for pretty pictures.\n",
        "import matplotlib.pyplot as plt"
      ],
      "execution_count": 52,
      "outputs": []
    },
    {
      "cell_type": "code",
      "metadata": {
        "id": "UuUsiGAHXsy2"
      },
      "source": [
        "import requests as libWeb #Libreria para HTTP\r\n",
        "import sqlalchemy as baseDatos #Libreria de gestión de bases de datos\r\n"
      ],
      "execution_count": 53,
      "outputs": []
    },
    {
      "cell_type": "markdown",
      "metadata": {
        "id": "6ycK9BgPK8Cq"
      },
      "source": [
        "##Tab Autocomplete\n",
        "\n",
        "Pressing tab will give you a list of IPython's best guesses for what you might want to type next. This is incredibly valuable and will save you a lot of time. If there is only one possible option for what you could type next, IPython will fill that in for you. Try pressing tab very frequently, it will seldom fill in anything you don't want, as if there is ambiguity a list will be shown. This is a great way to see what functions are available in a library.\n",
        "\n",
        "Try placing your cursor after the `.` and pressing tab."
      ]
    },
    {
      "cell_type": "code",
      "metadata": {
        "id": "P5ntid_AK8Cr",
        "colab": {
          "base_uri": "https://localhost:8080/",
          "height": 135
        },
        "outputId": "1e173674-9455-498e-b0e5-877c6cf2541a"
      },
      "source": [
        "np.random.\r\n"
      ],
      "execution_count": 47,
      "outputs": [
        {
          "output_type": "error",
          "ename": "SyntaxError",
          "evalue": "ignored",
          "traceback": [
            "\u001b[0;36m  File \u001b[0;32m\"<ipython-input-47-1a778a4e80a5>\"\u001b[0;36m, line \u001b[0;32m1\u001b[0m\n\u001b[0;31m    np.random.\u001b[0m\n\u001b[0m              ^\u001b[0m\n\u001b[0;31mSyntaxError\u001b[0m\u001b[0;31m:\u001b[0m invalid syntax\n"
          ]
        }
      ]
    },
    {
      "cell_type": "code",
      "metadata": {
        "colab": {
          "base_uri": "https://localhost:8080/"
        },
        "id": "8rvHMoHAaOv2",
        "outputId": "696a592d-5142-4c69-a1f2-47b75312a39f"
      },
      "source": [
        "libWeb.certs #Devuelve los certificados\r\n",
        "baseDatos.all_ #TAB y Enter tienen el mismo efecto.\r\n",
        "\r\n"
      ],
      "execution_count": 54,
      "outputs": [
        {
          "output_type": "execute_result",
          "data": {
            "text/plain": [
              "<function sqlalchemy.sql.expression.all_>"
            ]
          },
          "metadata": {
            "tags": []
          },
          "execution_count": 54
        }
      ]
    },
    {
      "cell_type": "markdown",
      "metadata": {
        "id": "XXKmEf0yK8Cs"
      },
      "source": [
        "##Getting Documentation Help\n",
        "\n",
        "Placing a question mark after a function and executing that line of code will give you the documentation IPython has for that function. It's often best to do this in a new cell, as you avoid re-executing other code and running into bugs."
      ]
    },
    {
      "cell_type": "code",
      "metadata": {
        "collapsed": true,
        "id": "4gF3DAPKK8Cs"
      },
      "source": [
        "np.random.normal?\r\n"
      ],
      "execution_count": 55,
      "outputs": []
    },
    {
      "cell_type": "code",
      "metadata": {
        "id": "IM75_zx9dy7R"
      },
      "source": [
        "libWeb.cookies.calendar?\r\n"
      ],
      "execution_count": 56,
      "outputs": []
    },
    {
      "cell_type": "markdown",
      "metadata": {
        "id": "4qsi85WaK8Ct"
      },
      "source": [
        "##Sampling\n",
        "\n",
        "We'll sample some random data using a function from `numpy`."
      ]
    },
    {
      "cell_type": "code",
      "metadata": {
        "id": "fCRhjhcHK8Cu"
      },
      "source": [
        "# Sample 100 points with a mean of 0 and an std of 1. This is a standard normal distribution.\n",
        "X = np.random.normal(0, 1, 100)\n"
      ],
      "execution_count": 57,
      "outputs": []
    },
    {
      "cell_type": "code",
      "metadata": {
        "colab": {
          "base_uri": "https://localhost:8080/",
          "height": 36
        },
        "id": "tmpF01tayhi8",
        "outputId": "dcfe21eb-41c4-4b0a-b448-5ed0c0b6f289"
      },
      "source": [
        "a= 1234569\r\n",
        "\r\n",
        "np.binary_repr(6) #Representación binaria de un determinado entero\r\n"
      ],
      "execution_count": 58,
      "outputs": [
        {
          "output_type": "execute_result",
          "data": {
            "application/vnd.google.colaboratory.intrinsic+json": {
              "type": "string"
            },
            "text/plain": [
              "'110'"
            ]
          },
          "metadata": {
            "tags": []
          },
          "execution_count": 58
        }
      ]
    },
    {
      "cell_type": "markdown",
      "metadata": {
        "id": "OlbN3GrMK8Cu"
      },
      "source": [
        "##Plotting\n",
        "\n",
        "We can use the plotting library we imported as follows."
      ]
    },
    {
      "cell_type": "code",
      "metadata": {
        "id": "JxNWoqg0K8Cu",
        "colab": {
          "base_uri": "https://localhost:8080/",
          "height": 283
        },
        "outputId": "80cb39be-685d-4ba1-ae22-b3a084416b76"
      },
      "source": [
        "\r\n",
        "plt.plot(X)"
      ],
      "execution_count": 59,
      "outputs": [
        {
          "output_type": "execute_result",
          "data": {
            "text/plain": [
              "[<matplotlib.lines.Line2D at 0x7f82285bad50>]"
            ]
          },
          "metadata": {
            "tags": []
          },
          "execution_count": 59
        },
        {
          "output_type": "display_data",
          "data": {
            "image/png": "[encoded data removed]",
            "text/plain": [
              "<Figure size 432x288 with 1 Axes>"
            ]
          },
          "metadata": {
            "tags": [],
            "needs_background": "light"
          }
        }
      ]
    },
    {
      "cell_type": "code",
      "metadata": {
        "colab": {
          "base_uri": "https://localhost:8080/",
          "height": 283
        },
        "id": "mDCUH7oo4P9c",
        "outputId": "65a6ee90-8093-4b30-aab7-a39e2e1dbea1"
      },
      "source": [
        "arreglo=[1,2,3,4,5,8,1,3,15,38,79,1]\r\n",
        "plt.plot(arreglo)"
      ],
      "execution_count": 60,
      "outputs": [
        {
          "output_type": "execute_result",
          "data": {
            "text/plain": [
              "[<matplotlib.lines.Line2D at 0x7f8228656950>]"
            ]
          },
          "metadata": {
            "tags": []
          },
          "execution_count": 60
        },
        {
          "output_type": "display_data",
          "data": {
            "image/png": "[encoded data removed]",
            "text/plain": [
              "<Figure size 432x288 with 1 Axes>"
            ]
          },
          "metadata": {
            "tags": [],
            "needs_background": "light"
          }
        }
      ]
    },
    {
      "cell_type": "markdown",
      "metadata": {
        "id": "Y5XSGOb1K8Cw"
      },
      "source": [
        "###Squelching Line Output\n",
        "\n",
        "You might have noticed the annoying line of the form `[<matplotlib.lines.Line2D at 0x7f72fdbc1710>]` before the plots. This is because the `.plot` function actually produces output. Sometimes we wish not to display output, we can accomplish this with the semi-colon as follows."
      ]
    },
    {
      "cell_type": "code",
      "metadata": {
        "id": "blIJ7arAK8Cw",
        "colab": {
          "base_uri": "https://localhost:8080/",
          "height": 265
        },
        "outputId": "1bb2b33d-c9d2-4dd2-bd63-eaf17c5e1dc7"
      },
      "source": [
        "plt.plot(X);"
      ],
      "execution_count": 61,
      "outputs": [
        {
          "output_type": "display_data",
          "data": {
            "image/png": "[encoded data removed]",
            "text/plain": [
              "<Figure size 432x288 with 1 Axes>"
            ]
          },
          "metadata": {
            "tags": [],
            "needs_background": "light"
          }
        }
      ]
    },
    {
      "cell_type": "code",
      "metadata": {
        "colab": {
          "base_uri": "https://localhost:8080/",
          "height": 265
        },
        "id": "V4SK7mR26m9y",
        "outputId": "eef2374f-be44-47dc-d1b3-1afab271d5d7"
      },
      "source": [
        "arreglo=[1,2,3,4,5,8,1,3,15,38,79,1]\r\n",
        "plt.plot(arreglo); #El punto y coma omite el codigo residual del plot"
      ],
      "execution_count": 50,
      "outputs": [
        {
          "output_type": "display_data",
          "data": {
            "image/png": "[encoded data removed]",
            "text/plain": [
              "<Figure size 432x288 with 1 Axes>"
            ]
          },
          "metadata": {
            "tags": [],
            "needs_background": "light"
          }
        }
      ]
    },
    {
      "cell_type": "markdown",
      "metadata": {
        "id": "axQNsYpLK8Cx"
      },
      "source": [
        "###Adding Axis Labels\n",
        "\n",
        "No self-respecting quant leaves a graph without labeled axes. Here are some commands to help with that."
      ]
    },
    {
      "cell_type": "code",
      "metadata": {
        "id": "7zycdQLuK8Cz",
        "colab": {
          "base_uri": "https://localhost:8080/",
          "height": 279
        },
        "outputId": "712030ee-3037-4b18-91a1-ec71a98eca51"
      },
      "source": [
        "X = np.random.normal(0, 1, 100)\n",
        "X2 = np.random.normal(0, 1, 100)\n",
        "\n",
        "plt.plot(X);\n",
        "plt.plot(X2);\n",
        "plt.xlabel('Time') # The data we generated is unitless, but don't forget units in general.\n",
        "plt.ylabel('Returns')\n",
        "plt.legend(['X', 'X2']);"
      ],
      "execution_count": 48,
      "outputs": [
        {
          "output_type": "display_data",
          "data": {
            "image/png": "[encoded data removed]",
            "text/plain": [
              "<Figure size 432x288 with 1 Axes>"
            ]
          },
          "metadata": {
            "tags": [],
            "needs_background": "light"
          }
        }
      ]
    },
    {
      "cell_type": "code",
      "metadata": {
        "colab": {
          "base_uri": "https://localhost:8080/",
          "height": 297
        },
        "id": "A6_PMX2n6_Dq",
        "outputId": "6d29b1e3-2da6-46d5-c1f6-1ed1887ceb1c"
      },
      "source": [
        "arreglo2=[2,5,45,35,7,123,54,18]\r\n",
        "\r\n",
        "plt.plot(arreglo);\r\n",
        "plt.plot(arreglo2)\r\n",
        "\r\n",
        "#Nombres de los ejes\r\n",
        "plt.xlabel(\"Numero de datos\")\r\n",
        "plt.ylabel(\"Datos\")\r\n",
        "\r\n",
        "#Leyenda en el grafico\r\n",
        "plt.legend([\"1\",\"2\"]) #No parece haber diferencia al usar \"\" y ''"
      ],
      "execution_count": 51,
      "outputs": [
        {
          "output_type": "execute_result",
          "data": {
            "text/plain": [
              "<matplotlib.legend.Legend at 0x7f82286a8790>"
            ]
          },
          "metadata": {
            "tags": []
          },
          "execution_count": 51
        },
        {
          "output_type": "display_data",
          "data": {
            "image/png": "[encoded data removed]",
            "text/plain": [
              "<Figure size 432x288 with 1 Axes>"
            ]
          },
          "metadata": {
            "tags": [],
            "needs_background": "light"
          }
        }
      ]
    },
    {
      "cell_type": "markdown",
      "metadata": {
        "id": "EAUfx7uSK8Cz"
      },
      "source": [
        "##Generating Statistics\n",
        "\n",
        "Let's use `numpy` to take some simple statistics."
      ]
    },
    {
      "cell_type": "code",
      "metadata": {
        "id": "Vlr7bmnuK8C0",
        "colab": {
          "base_uri": "https://localhost:8080/"
        },
        "outputId": "a1c07389-20ca-49f8-fd23-64fc38699716"
      },
      "source": [
        "np.mean(X)"
      ],
      "execution_count": 62,
      "outputs": [
        {
          "output_type": "execute_result",
          "data": {
            "text/plain": [
              "-0.0742476329419071"
            ]
          },
          "metadata": {
            "tags": []
          },
          "execution_count": 62
        }
      ]
    },
    {
      "cell_type": "code",
      "metadata": {
        "id": "rUxZbzdZK8C1",
        "colab": {
          "base_uri": "https://localhost:8080/"
        },
        "outputId": "1dc2be8e-44b0-4c0c-8334-b622b6904e36"
      },
      "source": [
        "np.std(X)"
      ],
      "execution_count": 63,
      "outputs": [
        {
          "output_type": "execute_result",
          "data": {
            "text/plain": [
              "1.0255043418483782"
            ]
          },
          "metadata": {
            "tags": []
          },
          "execution_count": 63
        }
      ]
    },
    {
      "cell_type": "code",
      "metadata": {
        "colab": {
          "base_uri": "https://localhost:8080/"
        },
        "id": "vZAVSxP69ZD_",
        "outputId": "19b3f9b7-13d5-4baf-ab20-63dab43c6973"
      },
      "source": [
        "print(\"Media: \",np.mean(arreglo))\r\n",
        "print(\"Desviación estandar:\",np.std(arreglo))"
      ],
      "execution_count": 64,
      "outputs": [
        {
          "output_type": "stream",
          "text": [
            "Media:  13.333333333333334\n",
            "Desviación estandar: 22.186081723058315\n"
          ],
          "name": "stdout"
        }
      ]
    },
    {
      "cell_type": "markdown",
      "metadata": {
        "id": "DmaTLrSJK8C2"
      },
      "source": [
        "##Getting Real Pricing Data\n",
        "\n",
        "Randomly sampled data can be great for testing ideas, but let's get some real data. We can use `get_pricing` to do that. You can use the `?` syntax as discussed above to get more information on `get_pricing`'s arguments."
      ]
    },
    {
      "cell_type": "code",
      "metadata": {
        "id": "7LU9ekgYK8C3",
        "colab": {
          "base_uri": "https://localhost:8080/"
        },
        "outputId": "0b016498-a645-4352-e7dc-54bcd52934ff"
      },
      "source": [
        "#data = get_pricing('MSFT', start_date='2012-1-1', end_date='2015-6-1')\r\n",
        "\r\n",
        "\r\n",
        "import pandas_datareader as pdr\r\n",
        "import datetime\r\n",
        "\r\n",
        "aapl=pdr.get_data_yahoo('AAPL',start=datetime.datetime(2012,1,1),end=datetime.datetime(2015,6,1))\r\n",
        "\r\n",
        "print(aapl)"
      ],
      "execution_count": 65,
      "outputs": [
        {
          "output_type": "stream",
          "text": [
            "                 High        Low       Open      Close       Volume  Adj Close\n",
            "Date                                                                          \n",
            "2012-01-03  14.732143  14.607143  14.621429  14.686786  302220800.0  12.650659\n",
            "2012-01-04  14.810000  14.617143  14.642857  14.765714  260022000.0  12.718646\n",
            "2012-01-05  14.948214  14.738214  14.819643  14.929643  271269600.0  12.859850\n",
            "2012-01-06  15.098214  14.972143  14.991786  15.085714  318292800.0  12.994284\n",
            "2012-01-09  15.276786  15.048214  15.196429  15.061786  394024400.0  12.973674\n",
            "...               ...        ...        ...        ...          ...        ...\n",
            "2015-05-26  33.227501  32.279999  33.150002  32.404999  282790400.0  29.715235\n",
            "2015-05-27  33.064999  32.512501  32.584999  33.009998  183332800.0  30.270010\n",
            "2015-05-28  32.987499  32.775002  32.965000  32.945000  122933200.0  30.210407\n",
            "2015-05-29  32.862499  32.474998  32.807499  32.570000  203538000.0  29.866539\n",
            "2015-06-01  32.847500  32.512501  32.570000  32.634998  128451200.0  29.926142\n",
            "\n",
            "[857 rows x 6 columns]\n"
          ],
          "name": "stdout"
        }
      ]
    },
    {
      "cell_type": "markdown",
      "metadata": {
        "id": "hU2kmSeVK8C3"
      },
      "source": [
        "Our data is now a dataframe. You can see the datetime index and the colums with different pricing data."
      ]
    },
    {
      "cell_type": "code",
      "metadata": {
        "id": "7Zz_j93bK8C3",
        "colab": {
          "base_uri": "https://localhost:8080/",
          "height": 455
        },
        "outputId": "d27debb1-1ab9-4ae4-982a-609296e177d2"
      },
      "source": [
        "#data\r\n",
        "\r\n",
        "aapl"
      ],
      "execution_count": 66,
      "outputs": [
        {
          "output_type": "execute_result",
          "data": {
            "text/html": [
              "<div>\n",
              "<style scoped>\n",
              "    .dataframe tbody tr th:only-of-type {\n",
              "        vertical-align: middle;\n",
              "    }\n",
              "\n",
              "    .dataframe tbody tr th {\n",
              "        vertical-align: top;\n",
              "    }\n",
              "\n",
              "    .dataframe thead th {\n",
              "        text-align: right;\n",
              "    }\n",
              "</style>\n",
              "<table border=\"1\" class=\"dataframe\">\n",
              "  <thead>\n",
              "    <tr style=\"text-align: right;\">\n",
              "      <th></th>\n",
              "      <th>High</th>\n",
              "      <th>Low</th>\n",
              "      <th>Open</th>\n",
              "      <th>Close</th>\n",
              "      <th>Volume</th>\n",
              "      <th>Adj Close</th>\n",
              "    </tr>\n",
              "    <tr>\n",
              "      <th>Date</th>\n",
              "      <th></th>\n",
              "      <th></th>\n",
              "      <th></th>\n",
              "      <th></th>\n",
              "      <th></th>\n",
              "      <th></th>\n",
              "    </tr>\n",
              "  </thead>\n",
              "  <tbody>\n",
              "    <tr>\n",
              "      <th>2012-01-03</th>\n",
              "      <td>14.732143</td>\n",
              "      <td>14.607143</td>\n",
              "      <td>14.621429</td>\n",
              "      <td>14.686786</td>\n",
              "      <td>302220800.0</td>\n",
              "      <td>12.650659</td>\n",
              "    </tr>\n",
              "    <tr>\n",
              "      <th>2012-01-04</th>\n",
              "      <td>14.810000</td>\n",
              "      <td>14.617143</td>\n",
              "      <td>14.642857</td>\n",
              "      <td>14.765714</td>\n",
              "      <td>260022000.0</td>\n",
              "      <td>12.718646</td>\n",
              "    </tr>\n",
              "    <tr>\n",
              "      <th>2012-01-05</th>\n",
              "      <td>14.948214</td>\n",
              "      <td>14.738214</td>\n",
              "      <td>14.819643</td>\n",
              "      <td>14.929643</td>\n",
              "      <td>271269600.0</td>\n",
              "      <td>12.859850</td>\n",
              "    </tr>\n",
              "    <tr>\n",
              "      <th>2012-01-06</th>\n",
              "      <td>15.098214</td>\n",
              "      <td>14.972143</td>\n",
              "      <td>14.991786</td>\n",
              "      <td>15.085714</td>\n",
              "      <td>318292800.0</td>\n",
              "      <td>12.994284</td>\n",
              "    </tr>\n",
              "    <tr>\n",
              "      <th>2012-01-09</th>\n",
              "      <td>15.276786</td>\n",
              "      <td>15.048214</td>\n",
              "      <td>15.196429</td>\n",
              "      <td>15.061786</td>\n",
              "      <td>394024400.0</td>\n",
              "      <td>12.973674</td>\n",
              "    </tr>\n",
              "    <tr>\n",
              "      <th>...</th>\n",
              "      <td>...</td>\n",
              "      <td>...</td>\n",
              "      <td>...</td>\n",
              "      <td>...</td>\n",
              "      <td>...</td>\n",
              "      <td>...</td>\n",
              "    </tr>\n",
              "    <tr>\n",
              "      <th>2015-05-26</th>\n",
              "      <td>33.227501</td>\n",
              "      <td>32.279999</td>\n",
              "      <td>33.150002</td>\n",
              "      <td>32.404999</td>\n",
              "      <td>282790400.0</td>\n",
              "      <td>29.715235</td>\n",
              "    </tr>\n",
              "    <tr>\n",
              "      <th>2015-05-27</th>\n",
              "      <td>33.064999</td>\n",
              "      <td>32.512501</td>\n",
              "      <td>32.584999</td>\n",
              "      <td>33.009998</td>\n",
              "      <td>183332800.0</td>\n",
              "      <td>30.270010</td>\n",
              "    </tr>\n",
              "    <tr>\n",
              "      <th>2015-05-28</th>\n",
              "      <td>32.987499</td>\n",
              "      <td>32.775002</td>\n",
              "      <td>32.965000</td>\n",
              "      <td>32.945000</td>\n",
              "      <td>122933200.0</td>\n",
              "      <td>30.210407</td>\n",
              "    </tr>\n",
              "    <tr>\n",
              "      <th>2015-05-29</th>\n",
              "      <td>32.862499</td>\n",
              "      <td>32.474998</td>\n",
              "      <td>32.807499</td>\n",
              "      <td>32.570000</td>\n",
              "      <td>203538000.0</td>\n",
              "      <td>29.866539</td>\n",
              "    </tr>\n",
              "    <tr>\n",
              "      <th>2015-06-01</th>\n",
              "      <td>32.847500</td>\n",
              "      <td>32.512501</td>\n",
              "      <td>32.570000</td>\n",
              "      <td>32.634998</td>\n",
              "      <td>128451200.0</td>\n",
              "      <td>29.926142</td>\n",
              "    </tr>\n",
              "  </tbody>\n",
              "</table>\n",
              "<p>857 rows × 6 columns</p>\n",
              "</div>"
            ],
            "text/plain": [
              "                 High        Low       Open      Close       Volume  Adj Close\n",
              "Date                                                                          \n",
              "2012-01-03  14.732143  14.607143  14.621429  14.686786  302220800.0  12.650659\n",
              "2012-01-04  14.810000  14.617143  14.642857  14.765714  260022000.0  12.718646\n",
              "2012-01-05  14.948214  14.738214  14.819643  14.929643  271269600.0  12.859850\n",
              "2012-01-06  15.098214  14.972143  14.991786  15.085714  318292800.0  12.994284\n",
              "2012-01-09  15.276786  15.048214  15.196429  15.061786  394024400.0  12.973674\n",
              "...               ...        ...        ...        ...          ...        ...\n",
              "2015-05-26  33.227501  32.279999  33.150002  32.404999  282790400.0  29.715235\n",
              "2015-05-27  33.064999  32.512501  32.584999  33.009998  183332800.0  30.270010\n",
              "2015-05-28  32.987499  32.775002  32.965000  32.945000  122933200.0  30.210407\n",
              "2015-05-29  32.862499  32.474998  32.807499  32.570000  203538000.0  29.866539\n",
              "2015-06-01  32.847500  32.512501  32.570000  32.634998  128451200.0  29.926142\n",
              "\n",
              "[857 rows x 6 columns]"
            ]
          },
          "metadata": {
            "tags": []
          },
          "execution_count": 66
        }
      ]
    },
    {
      "cell_type": "markdown",
      "metadata": {
        "id": "7TGjqWrPK8C4"
      },
      "source": [
        "This is a pandas dataframe, so we can index in to just get price like this. For more info on pandas, please [click here](http://pandas.pydata.org/pandas-docs/stable/10min.html)."
      ]
    },
    {
      "cell_type": "code",
      "metadata": {
        "id": "UTZECbO5K8C5",
        "colab": {
          "base_uri": "https://localhost:8080/"
        },
        "outputId": "37dee64c-54c4-46a4-fd98-5fdf058dc96c"
      },
      "source": [
        "#X = data['price']\r\n",
        "\r\n",
        "X= aapl['Close'] #Guardo los datos de solo la columna 'Close'\r\n",
        "print(X)\r\n",
        "\r\n",
        "Y=aapl['Volume']\r\n",
        "print(Y)"
      ],
      "execution_count": 67,
      "outputs": [
        {
          "output_type": "stream",
          "text": [
            "Date\n",
            "2012-01-03    14.686786\n",
            "2012-01-04    14.765714\n",
            "2012-01-05    14.929643\n",
            "2012-01-06    15.085714\n",
            "2012-01-09    15.061786\n",
            "                ...    \n",
            "2015-05-26    32.404999\n",
            "2015-05-27    33.009998\n",
            "2015-05-28    32.945000\n",
            "2015-05-29    32.570000\n",
            "2015-06-01    32.634998\n",
            "Name: Close, Length: 857, dtype: float64\n",
            "Date\n",
            "2012-01-03    302220800.0\n",
            "2012-01-04    260022000.0\n",
            "2012-01-05    271269600.0\n",
            "2012-01-06    318292800.0\n",
            "2012-01-09    394024400.0\n",
            "                 ...     \n",
            "2015-05-26    282790400.0\n",
            "2015-05-27    183332800.0\n",
            "2015-05-28    122933200.0\n",
            "2015-05-29    203538000.0\n",
            "2015-06-01    128451200.0\n",
            "Name: Volume, Length: 857, dtype: float64\n"
          ],
          "name": "stdout"
        }
      ]
    },
    {
      "cell_type": "markdown",
      "metadata": {
        "id": "JLKm_9mzK8C5"
      },
      "source": [
        "Because there is now also date information in our data, we provide two series to `.plot`. `X.index` gives us the datetime index, and `X.values` gives us the pricing values. These are used as the X and Y coordinates to make a graph."
      ]
    },
    {
      "cell_type": "code",
      "metadata": {
        "id": "6ZnoGZjdK8C6",
        "colab": {
          "base_uri": "https://localhost:8080/",
          "height": 265
        },
        "outputId": "4b79347c-cda5-40af-a5f4-fc98e99d8a7f"
      },
      "source": [
        "plt.plot(X.index, X.values)\n",
        "plt.ylabel('Price')\n",
        "plt.legend(['MSFT']);"
      ],
      "execution_count": 68,
      "outputs": [
        {
          "output_type": "display_data",
          "data": {
            "image/png": "[encoded data removed]",
            "text/plain": [
              "<Figure size 432x288 with 1 Axes>"
            ]
          },
          "metadata": {
            "tags": [],
            "needs_background": "light"
          }
        }
      ]
    },
    {
      "cell_type": "code",
      "metadata": {
        "colab": {
          "base_uri": "https://localhost:8080/",
          "height": 276
        },
        "id": "jLIpj6fNDwzK",
        "outputId": "baffa266-d365-4b4a-d0cc-ea66a2ddb80d"
      },
      "source": [
        "plt.plot(Y.index, Y.values)\r\n",
        "plt.ylabel(\"Volumen\")\r\n",
        "plt.legend(['AAPL']);"
      ],
      "execution_count": 69,
      "outputs": [
        {
          "output_type": "display_data",
          "data": {
            "image/png": "[encoded data removed]",
            "text/plain": [
              "<Figure size 432x288 with 1 Axes>"
            ]
          },
          "metadata": {
            "tags": [],
            "needs_background": "light"
          }
        }
      ]
    },
    {
      "cell_type": "markdown",
      "metadata": {
        "id": "s16gaXxtK8C6"
      },
      "source": [
        "We can get statistics again on real data."
      ]
    },
    {
      "cell_type": "code",
      "metadata": {
        "id": "culV30oaK8C7",
        "colab": {
          "base_uri": "https://localhost:8080/"
        },
        "outputId": "355f82b9-5b66-4df2-8413-6068d9593592"
      },
      "source": [
        "np.mean(X)"
      ],
      "execution_count": 70,
      "outputs": [
        {
          "output_type": "execute_result",
          "data": {
            "text/plain": [
              "21.46588182059859"
            ]
          },
          "metadata": {
            "tags": []
          },
          "execution_count": 70
        }
      ]
    },
    {
      "cell_type": "code",
      "metadata": {
        "colab": {
          "base_uri": "https://localhost:8080/"
        },
        "id": "PyDRpKvIE7cf",
        "outputId": "39b43031-09de-4a07-afa0-c52fb2672f10"
      },
      "source": [
        "print(\"Media: \",np.mean(Y))"
      ],
      "execution_count": 71,
      "outputs": [
        {
          "output_type": "stream",
          "text": [
            "Media:  373739895.915986\n"
          ],
          "name": "stdout"
        }
      ]
    },
    {
      "cell_type": "code",
      "metadata": {
        "id": "wVj8mgnFK8C7",
        "colab": {
          "base_uri": "https://localhost:8080/"
        },
        "outputId": "5127dda0-9a89-47a8-9d34-6d1144db2c12"
      },
      "source": [
        "np.std(X)"
      ],
      "execution_count": 72,
      "outputs": [
        {
          "output_type": "execute_result",
          "data": {
            "text/plain": [
              "4.902291024942212"
            ]
          },
          "metadata": {
            "tags": []
          },
          "execution_count": 72
        }
      ]
    },
    {
      "cell_type": "code",
      "metadata": {
        "colab": {
          "base_uri": "https://localhost:8080/"
        },
        "id": "xsxu5fPOFEp3",
        "outputId": "e3273f3e-7d5b-4707-96cf-e7af1ac6fed8"
      },
      "source": [
        "print(\"Desviación estandar: \",np.std(Y))"
      ],
      "execution_count": 73,
      "outputs": [
        {
          "output_type": "stream",
          "text": [
            "Desviación estandar:  210044088.4059873\n"
          ],
          "name": "stdout"
        }
      ]
    },
    {
      "cell_type": "markdown",
      "metadata": {
        "id": "TvSj_W88K8C8"
      },
      "source": [
        "##Getting Returns from Prices\n",
        "\n",
        "We can use the `pct_change` function to get returns. Notice how we drop the first element after doing this, as it will be `NaN` (nothing -> something results in a NaN percent change)."
      ]
    },
    {
      "cell_type": "code",
      "metadata": {
        "id": "xN5gelO6K8C8",
        "colab": {
          "base_uri": "https://localhost:8080/"
        },
        "outputId": "599ce18f-724e-47d7-eb30-b19c2b4a7d44"
      },
      "source": [
        "R = X.pct_change()[1:] #Toma a partir del segundo elemento (el cero es primero en python) y : simboliza los elementos siguientes de la lista.\r\n",
        "print(R)"
      ],
      "execution_count": 96,
      "outputs": [
        {
          "output_type": "stream",
          "text": [
            "Date\n",
            "2012-01-04    0.005374\n",
            "2012-01-05    0.011102\n",
            "2012-01-06    0.010454\n",
            "2012-01-09   -0.001586\n",
            "2012-01-10    0.003580\n",
            "                ...   \n",
            "2015-05-26   -0.022031\n",
            "2015-05-27    0.018670\n",
            "2015-05-28   -0.001969\n",
            "2015-05-29   -0.011383\n",
            "2015-06-01    0.001996\n",
            "Name: Close, Length: 856, dtype: float64\n"
          ],
          "name": "stdout"
        }
      ]
    },
    {
      "cell_type": "code",
      "metadata": {
        "colab": {
          "base_uri": "https://localhost:8080/"
        },
        "id": "sYDKqfYXWjul",
        "outputId": "0cb065a1-0c74-4b27-f4c4-a09c3597fc4b"
      },
      "source": [
        "S = Y.pct_change()[:25] #Ultimos 25 elementos\r\n",
        "print(S)"
      ],
      "execution_count": 104,
      "outputs": [
        {
          "output_type": "stream",
          "text": [
            "Date\n",
            "2012-01-03         NaN\n",
            "2012-01-04   -0.139629\n",
            "2012-01-05    0.043256\n",
            "2012-01-06    0.173345\n",
            "2012-01-09    0.237931\n",
            "2012-01-10   -0.344720\n",
            "2012-01-11   -0.166972\n",
            "2012-01-12   -0.011612\n",
            "2012-01-13    0.063195\n",
            "2012-01-17    0.074664\n",
            "2012-01-18    0.139541\n",
            "2012-01-19   -0.054383\n",
            "2012-01-20    0.581634\n",
            "2012-01-23   -0.260673\n",
            "2012-01-24    0.789302\n",
            "2012-01-25    0.749904\n",
            "2012-01-26   -0.661922\n",
            "2012-01-27   -0.074929\n",
            "2012-01-30    0.265698\n",
            "2012-01-31    0.032536\n",
            "2012-02-01   -0.310551\n",
            "2012-02-02   -0.308279\n",
            "2012-02-03    0.534289\n",
            "2012-02-06   -0.129752\n",
            "2012-02-07    0.267872\n",
            "Name: Volume, dtype: float64\n"
          ],
          "name": "stdout"
        }
      ]
    },
    {
      "cell_type": "markdown",
      "metadata": {
        "id": "rjcO75nbK8C9"
      },
      "source": [
        "We can plot the returns distribution as a histogram."
      ]
    },
    {
      "cell_type": "code",
      "metadata": {
        "id": "ddqAx59tK8C9",
        "colab": {
          "base_uri": "https://localhost:8080/",
          "height": 279
        },
        "outputId": "ef97d2d7-6387-47cb-a184-429ff357f628"
      },
      "source": [
        "plt.hist(R, bins=20)\n",
        "plt.xlabel('Return')\n",
        "plt.ylabel('Frequency')\n",
        "plt.legend(['MSFT Returns']);"
      ],
      "execution_count": 82,
      "outputs": [
        {
          "output_type": "display_data",
          "data": {
            "image/png": "[encoded data removed]",
            "text/plain": [
              "<Figure size 432x288 with 1 Axes>"
            ]
          },
          "metadata": {
            "tags": [],
            "needs_background": "light"
          }
        }
      ]
    },
    {
      "cell_type": "code",
      "metadata": {
        "colab": {
          "base_uri": "https://localhost:8080/",
          "height": 297
        },
        "id": "VjPDnzC9XtT3",
        "outputId": "c183cb57-2b33-4184-8ca6-347c09cdf03d"
      },
      "source": [
        "plt.hist(S,bins=9) #Generador de histograma .hist(<variable>,<numero de barras>)\r\n",
        "plt.xlabel('Rendimiento')\r\n",
        "plt.ylabel('Frecuencia')\r\n",
        "plt.legend(['AAPL'])"
      ],
      "execution_count": 123,
      "outputs": [
        {
          "output_type": "execute_result",
          "data": {
            "text/plain": [
              "<matplotlib.legend.Legend at 0x7f8227e6d510>"
            ]
          },
          "metadata": {
            "tags": []
          },
          "execution_count": 123
        },
        {
          "output_type": "display_data",
          "data": {
            "image/png": "[encoded data removed]",
            "text/plain": [
              "<Figure size 432x288 with 1 Axes>"
            ]
          },
          "metadata": {
            "tags": [],
            "needs_background": "light"
          }
        }
      ]
    },
    {
      "cell_type": "markdown",
      "metadata": {
        "id": "TXkbsXV5K8C-"
      },
      "source": [
        "Get statistics again."
      ]
    },
    {
      "cell_type": "code",
      "metadata": {
        "id": "T7OX0KbLK8C-",
        "colab": {
          "base_uri": "https://localhost:8080/"
        },
        "outputId": "9a3b5325-7188-4a56-fa9f-bfa4494f7a65"
      },
      "source": [
        "np.mean(R)"
      ],
      "execution_count": 109,
      "outputs": [
        {
          "output_type": "execute_result",
          "data": {
            "text/plain": [
              "0.0010733079349014747"
            ]
          },
          "metadata": {
            "tags": []
          },
          "execution_count": 109
        }
      ]
    },
    {
      "cell_type": "code",
      "metadata": {
        "colab": {
          "base_uri": "https://localhost:8080/"
        },
        "id": "WBp1MPkkaguI",
        "outputId": "e8b5d151-1b87-40d6-8acc-23216087eb6a"
      },
      "source": [
        "print(\"Media:\", np.mean(S))"
      ],
      "execution_count": 112,
      "outputs": [
        {
          "output_type": "stream",
          "text": [
            "Media: 0.062072654119811416\n"
          ],
          "name": "stdout"
        }
      ]
    },
    {
      "cell_type": "code",
      "metadata": {
        "id": "-ET3XyGuK8C-",
        "colab": {
          "base_uri": "https://localhost:8080/"
        },
        "outputId": "2f276684-d3c1-4820-daff-3b503e354758"
      },
      "source": [
        "np.std(R)"
      ],
      "execution_count": 110,
      "outputs": [
        {
          "output_type": "execute_result",
          "data": {
            "text/plain": [
              "0.016718032464704533"
            ]
          },
          "metadata": {
            "tags": []
          },
          "execution_count": 110
        }
      ]
    },
    {
      "cell_type": "code",
      "metadata": {
        "colab": {
          "base_uri": "https://localhost:8080/"
        },
        "id": "pUBzyYQeasEW",
        "outputId": "c4d78a0e-692e-4122-fb27-8cc46e048f0f"
      },
      "source": [
        "print(\"Desviación estandar\",np.std(S))"
      ],
      "execution_count": 113,
      "outputs": [
        {
          "output_type": "stream",
          "text": [
            "Desviación estandar 0.34562396713003907\n"
          ],
          "name": "stdout"
        }
      ]
    },
    {
      "cell_type": "markdown",
      "metadata": {
        "id": "rZo67wNWK8C_"
      },
      "source": [
        "Now let's go backwards and generate data out of a normal distribution using the statistics we estimated from Microsoft's returns. We'll see that we have good reason to suspect Microsoft's returns may not be normal, as the resulting normal distribution looks far different."
      ]
    },
    {
      "cell_type": "code",
      "metadata": {
        "id": "UFdSi6LfK8DA",
        "colab": {
          "base_uri": "https://localhost:8080/",
          "height": 279
        },
        "outputId": "c35962a3-4479-445a-c5c4-0100195446b7"
      },
      "source": [
        "plt.hist(np.random.normal(np.mean(R), np.std(R), 10000), bins=20)\n",
        "plt.xlabel('Return')\n",
        "plt.ylabel('Frequency')\n",
        "plt.legend(['Normally Distributed Returns']);"
      ],
      "execution_count": 122,
      "outputs": [
        {
          "output_type": "display_data",
          "data": {
            "image/png": "[encoded data removed]",
            "text/plain": [
              "<Figure size 432x288 with 1 Axes>"
            ]
          },
          "metadata": {
            "tags": [],
            "needs_background": "light"
          }
        }
      ]
    },
    {
      "cell_type": "code",
      "metadata": {
        "colab": {
          "base_uri": "https://localhost:8080/",
          "height": 297
        },
        "id": "VK2mHzqicxKn",
        "outputId": "f39c757f-e71a-4ae7-cf0d-2237443967bc"
      },
      "source": [
        "plt.hist(np.random.normal(np.mean(S),np.std(S), 1000),bins=20);\r\n",
        "plt.xlabel('Rendimiento')\r\n",
        "plt.ylabel('Frecuencia')\r\n",
        "plt.legend('Rendimiento Normalmente Distribuido')"
      ],
      "execution_count": 124,
      "outputs": [
        {
          "output_type": "execute_result",
          "data": {
            "text/plain": [
              "<matplotlib.legend.Legend at 0x7f8227dcea90>"
            ]
          },
          "metadata": {
            "tags": []
          },
          "execution_count": 124
        },
        {
          "output_type": "display_data",
          "data": {
            "image/png": "[encoded data removed]",
            "text/plain": [
              "<Figure size 432x288 with 1 Axes>"
            ]
          },
          "metadata": {
            "tags": [],
            "needs_background": "light"
          }
        }
      ]
    },
    {
      "cell_type": "markdown",
      "metadata": {
        "id": "yUo8NsRRK8DA"
      },
      "source": [
        "##Generating a Moving Average\n",
        "\n",
        "`pandas` has some nice tools to allow us to generate rolling statistics. Here's an example. Notice how there's no moving average for the first 60 days, as we don't have 60 days of data on which to generate the statistic."
      ]
    },
    {
      "cell_type": "code",
      "metadata": {
        "id": "rmsoc83pK8DD",
        "colab": {
          "base_uri": "https://localhost:8080/",
          "height": 283
        },
        "outputId": "3b6f44b5-5bfa-4468-c87d-29dc14c0d50c"
      },
      "source": [
        "# Take the average of the last 60 days at each timepoint.\n",
        "X.rolling\n",
        "#MAVG = pd.rolling_mean(X, window=60)\n",
        "MAVG= X.rolling(60).mean()\n",
        "plt.plot(X.index, X.values)\n",
        "plt.plot(MAVG.index, MAVG.values)\n",
        "plt.ylabel('Price')\n",
        "# plt.legend(['MSFT', '60-day MAVG']);\n",
        "plt.legend(['AAPL','60-day MAVG'])"
      ],
      "execution_count": 132,
      "outputs": [
        {
          "output_type": "execute_result",
          "data": {
            "text/plain": [
              "<matplotlib.legend.Legend at 0x7f822762a050>"
            ]
          },
          "metadata": {
            "tags": []
          },
          "execution_count": 132
        },
        {
          "output_type": "display_data",
          "data": {
            "image/png": "[encoded data removed]",
            "text/plain": [
              "<Figure size 432x288 with 1 Axes>"
            ]
          },
          "metadata": {
            "tags": [],
            "needs_background": "light"
          }
        }
      ]
    },
    {
      "cell_type": "markdown",
      "metadata": {
        "id": "-8OtLgbOK8DE"
      },
      "source": [
        "This presentation is for informational purposes only and does not constitute an offer to sell, a solicitation to buy, or a recommendation for any security; nor does it constitute an offer to provide investment advisory or other services by Quantopian, Inc. (\"Quantopian\"). Nothing contained herein constitutes investment advice or offers any opinion with respect to the suitability of any security, and any views expressed herein should not be taken as advice to buy, sell, or hold any security or as an endorsement of any security or company. In preparing the information contained herein, Quantopian, Inc. has not taken into account the investment needs, objectives, and financial circumstances of any particular investor. Any views expressed and data illustrated herein were prepared based upon information, believed to be reliable, available to Quantopian, Inc. at the time of publication. Quantopian makes no guarantees as to their accuracy or completeness. All information is subject to change and may quickly become unreliable for various reasons, including changes in market conditions or economic circumstances."
      ]
    }
  ]
}