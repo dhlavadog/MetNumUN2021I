{
  "nbformat": 4,
  "nbformat_minor": 0,
  "metadata": {
    "kernelspec": {
      "display_name": "Python 3",
      "language": "python",
      "name": "python3"
    },
    "language_info": {
      "codemirror_mode": {
        "name": "ipython",
        "version": 3
      },
      "file_extension": ".py",
      "mimetype": "text/x-python",
      "name": "python",
      "nbconvert_exporter": "python",
      "pygments_lexer": "ipython3",
      "version": "3.5.2"
    },
    "colab": {
      "name": "Semana1SolucionCuadratica.ipynb",
      "provenance": [],
      "collapsed_sections": []
    }
  },
  "cells": [
    {
      "cell_type": "markdown",
      "metadata": {
        "id": "DlveWFVonPMx"
      },
      "source": [
        "## Solve a quadratic equation, $x^2 + b x + c = 0$.\n",
        "\n",
        "\n",
        "Write a function which receives $b$ and $c$, the coefficients of a monic quadratic polynomial, $x^2 + b x + c$, and returns the pair of its roots. Your function should always return two values, even if quadratic has a double root.\n",
        "\n",
        "For example, given a quadratic $x^2 - 2x + 1$, your function should return a pair of $(1, 1)$. Of course, in floating point, your answers may differ from an exact unity.\n",
        "\n",
        "Your function also must correctly handle complex roots (to this end, you might need the `cmath` module from the standard library)."
      ]
    },
    {
      "cell_type": "code",
      "metadata": {
        "collapsed": true,
        "id": "V4NcFsi8nPM2"
      },
      "source": [
        "import cmath\n",
        "import math\n",
        "\n",
        "def solve_quad(b, c):\n",
        "\n",
        "    \"\"\"Solve a quadratic equation, x**2 + bx + c = 0.\n",
        "    \n",
        "    Parameters\n",
        "    ----------\n",
        "    b, c : float\n",
        "       Coefficients\n",
        "       \n",
        "    Returns\n",
        "    -------\n",
        "    x1, x2 : float or complex\n",
        "       Roots.\n",
        "    \"\"\"\n",
        "    # ... enter your code here ...\n",
        "    b=float(b) #convierto los valores en flotante, según el requisito\n",
        "    c=float(c)\n",
        "\n",
        "    discriminante = b**2-4*c \n",
        "\n",
        "    if discriminante == b**2:\n",
        "      x1= -b\n",
        "      x2= c/x1\n",
        "    elif discriminante >= 0:\n",
        "      x1 = (-b-math.sqrt(discriminante))/(2)  \n",
        "      x2 = (-b+math.sqrt(discriminante))/(2)   \n",
        "    else:\n",
        "      x1 = (-b-cmath.sqrt(discriminante))/(2)  \n",
        "      x2 = (-b+cmath.sqrt(discriminante))/(2)\n",
        "\n",
        "    return x1,x2\n"
      ],
      "execution_count": 17,
      "outputs": []
    },
    {
      "cell_type": "code",
      "metadata": {
        "colab": {
          "base_uri": "https://localhost:8080/"
        },
        "id": "5cRW8_9xrZh7",
        "outputId": "2bcab1bd-ae76-4f49-ced4-44e2e6b0a8dd"
      },
      "source": [
        "b= float(input(\"Ingrese el valor 'b' de la ecuación:\"))\n",
        "c= float(input(\"Ingrese el valor 'c' de la ecuación:\"))\n",
        "\n",
        "print(\"Raices reales:\",solve_quad(b,c))"
      ],
      "execution_count": 19,
      "outputs": [
        {
          "output_type": "stream",
          "text": [
            "Ingrese el valor 'b' de la ecuación:3\n",
            "Ingrese el valor 'c' de la ecuación:2\n",
            "Raices reales: (-2.0, -1.0)\n"
          ],
          "name": "stdout"
        }
      ]
    },
    {
      "cell_type": "markdown",
      "metadata": {
        "id": "obWxbrcRnPM7"
      },
      "source": [
        "Test the your function on several examples against a calculation by hand. Once you're sure that your function works, try these five test cases below. \n",
        "\n",
        "Note that the last two test cases are special: they test whether your function handles extreme cases where a too simple approach is prone to a catastrophic cancellation. Make sure your function passes all five tests.\n",
        "\n",
        "This exercise is graded, each test case contributes a 20% of the grade. "
      ]
    },
    {
      "cell_type": "code",
      "metadata": {
        "collapsed": true,
        "id": "bwnOIm59nPM9"
      },
      "source": [
        "from numpy import allclose"
      ],
      "execution_count": 20,
      "outputs": []
    },
    {
      "cell_type": "code",
      "metadata": {
        "collapsed": true,
        "id": "jYiDR9qBnPM_"
      },
      "source": [
        "variants = [{'b': 4.0, 'c': 3.0},\n",
        "            {'b': 2.0, 'c': 1.0},\n",
        "            {'b': 0.5, 'c': 4.0},\n",
        "            {'b': 1e10, 'c': 3.0},\n",
        "            {'b': -1e10, 'c': 4.0},]"
      ],
      "execution_count": 21,
      "outputs": []
    },
    {
      "cell_type": "code",
      "metadata": {
        "colab": {
          "base_uri": "https://localhost:8080/"
        },
        "id": "MBpvPPKknPNA",
        "outputId": "4c9e5cc3-6324-4244-a420-51e942326711"
      },
      "source": [
        "for var in variants:\n",
        "    x1, x2 = solve_quad(**var)\n",
        "    print(allclose(x1*x2, var['c']))"
      ],
      "execution_count": 22,
      "outputs": [
        {
          "output_type": "stream",
          "text": [
            "True\n",
            "True\n",
            "True\n",
            "True\n",
            "True\n"
          ],
          "name": "stdout"
        }
      ]
    }
  ]
}