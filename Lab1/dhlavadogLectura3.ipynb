{
  "nbformat": 4,
  "nbformat_minor": 0,
  "metadata": {
    "kernelspec": {
      "name": "python3",
      "display_name": "Python 3"
    },
    "colab": {
      "name": "dhlavadogLectura3.ipynb",
      "provenance": [],
      "collapsed_sections": [
        "p9D4afoaRVIw",
        "ckCfwzqKRVI2",
        "Bm3O_4DBRVI_",
        "qX_aTdJ2RVJF",
        "NyH1uYnZRVJT",
        "vuvUNXO8RVJX"
      ]
    }
  },
  "cells": [
    {
      "cell_type": "markdown",
      "metadata": {
        "id": "uvu4v1C0RVHs"
      },
      "source": [
        "# Introduction to NumPy\n",
        "by Maxwell Margenot\n",
        "\n",
        "Part of the Quantopian Lecture Series:\n",
        "\n",
        "* [www.quantopian.com/lectures](https://www.quantopian.com/lectures)\n",
        "* [github.com/quantopian/research_public](https://github.com/quantopian/research_public)\n",
        "\n",
        "Notebook released under the Creative Commons Attribution 4.0 License."
      ]
    },
    {
      "cell_type": "markdown",
      "metadata": {
        "id": "NaG5Mg2wRVH-"
      },
      "source": [
        "NumPy is an incredibly powerful package in Python that is ubiquitous throughout the Quantopian platform. It has strong integration with Pandas, another tool we will be covering in the lecture series. NumPy adds support for multi-dimensional arrays and mathematical functions that allow you to easily perform linear algebra calculations. This lecture will be a collection of linear algebra examples computed using NumPy."
      ]
    },
    {
      "cell_type": "code",
      "metadata": {
        "collapsed": true,
        "id": "zsxrKHAJRVIA"
      },
      "source": [
        "import numpy as np\n",
        "import matplotlib.pyplot as plt"
      ],
      "execution_count": 5,
      "outputs": []
    },
    {
      "cell_type": "markdown",
      "metadata": {
        "id": "ZII8lWY5RVIF"
      },
      "source": [
        "### Basic NumPy arrays"
      ]
    },
    {
      "cell_type": "markdown",
      "metadata": {
        "id": "8Q1zZ7VSRVIJ"
      },
      "source": [
        "The most basic way that we could make use of NumPy in finance is calculating the mean return of a portfolio. Say that we have a list containing the historical return of several stocks."
      ]
    },
    {
      "cell_type": "code",
      "metadata": {
        "collapsed": true,
        "id": "Lpv0kuIMRVIM"
      },
      "source": [
        "stock_list = [3.5, 5, 2, 8, 4.2]"
      ],
      "execution_count": 2,
      "outputs": []
    },
    {
      "cell_type": "code",
      "metadata": {
        "id": "dBGSuEO3WVNZ"
      },
      "source": [
        "lista=[5,3,5.1,12.3,9]"
      ],
      "execution_count": 3,
      "outputs": []
    },
    {
      "cell_type": "markdown",
      "metadata": {
        "id": "_1tkseDBRVIR"
      },
      "source": [
        "We can make an array by calling a function on the list:"
      ]
    },
    {
      "cell_type": "code",
      "metadata": {
        "id": "MgBWk9FVRVIS",
        "colab": {
          "base_uri": "https://localhost:8080/"
        },
        "outputId": "5ce1362f-6081-4a6b-dd82-30a6a3616fa0"
      },
      "source": [
        "returns = np.array(stock_list)\n",
        "print (returns, type(returns))"
      ],
      "execution_count": 6,
      "outputs": [
        {
          "output_type": "stream",
          "text": [
            "[3.5 5.  2.  8.  4.2] <class 'numpy.ndarray'>\n"
          ],
          "name": "stdout"
        }
      ]
    },
    {
      "cell_type": "code",
      "metadata": {
        "colab": {
          "base_uri": "https://localhost:8080/"
        },
        "id": "dkEibz2kWeYw",
        "outputId": "9a749265-0670-42e2-f308-fa90dbd9e1f6"
      },
      "source": [
        "a= np.array(lista)\r\n",
        "print(a,type(a))"
      ],
      "execution_count": 7,
      "outputs": [
        {
          "output_type": "stream",
          "text": [
            "[ 5.   3.   5.1 12.3  9. ] <class 'numpy.ndarray'>\n"
          ],
          "name": "stdout"
        }
      ]
    },
    {
      "cell_type": "markdown",
      "metadata": {
        "id": "bD9bznw-RVIV"
      },
      "source": [
        "You'll notice that the type of our array is 'ndarray', not just 'array'. This is because NumPy arrays can be created with multiple dimensions. If we pass np.array() a list of lists, it will create a 2-dimensional array. If we pass a list of lists of lists, it will create a 3-dimensional array, and so on and so forth."
      ]
    },
    {
      "cell_type": "code",
      "metadata": {
        "id": "_sWjMNtIRVIY",
        "colab": {
          "base_uri": "https://localhost:8080/"
        },
        "outputId": "2f7e4290-5256-4e30-f64a-4ff41bdb40f7"
      },
      "source": [
        "A = np.array([[1, 2], [3, 4]])\n",
        "print (A, type(A))"
      ],
      "execution_count": 12,
      "outputs": [
        {
          "output_type": "stream",
          "text": [
            "[[1 2]\n",
            " [3 4]] <class 'numpy.ndarray'>\n"
          ],
          "name": "stdout"
        }
      ]
    },
    {
      "cell_type": "markdown",
      "metadata": {
        "id": "aF8EXFh129ub"
      },
      "source": [
        "Aplicamos `n.array()` para dos casos puntuales: \\\\\r\n",
        "\r\n",
        "En el primero, una matriz $a$ cuyos elementos son regulares:\r\n",
        "\r\n",
        "$$b= \\begin{bmatrix}\r\n",
        "1 & 4 \\\\\r\n",
        "3 & 7 \\\\\r\n",
        "12 & 9 \\\\\r\n",
        "\\end{bmatrix}$$\r\n",
        "\r\n",
        "En el segundo paso, lo aplicamos a una matriz $b$ con elementos arbitrariamente irregulares para ver la respuesta de `n.array()`\r\n",
        "\r\n",
        "$$c= \\begin{bmatrix}\r\n",
        "12\\\\\r\n",
        "9 & 12 & 3\\\\\r\n",
        "78 & 45\\\\\r\n",
        "65\\\\\r\n",
        "89 & 69 & [89 & 69 & [18 & 23]\\hspace{1mm}]\r\n",
        "\\end{bmatrix}$$"
      ]
    },
    {
      "cell_type": "code",
      "metadata": {
        "colab": {
          "base_uri": "https://localhost:8080/"
        },
        "id": "O9fU_6elYAL4",
        "outputId": "3c6125c9-7d98-43cb-998b-f85de8f98212"
      },
      "source": [
        "b=np.array([[1,4],[3,7],[12,9]])\r\n",
        "print(b, type(b))\r\n",
        "print(\"\\n\")\r\n",
        "c= np.array([12,[9,12,3],[78,45],65,[89,69,[18,23]]]) #No aplica para ndarrays de magnitud irregular, está en desuso\r\n",
        "print(c,type(c))"
      ],
      "execution_count": 15,
      "outputs": [
        {
          "output_type": "stream",
          "text": [
            "[[ 1  4]\n",
            " [ 3  7]\n",
            " [12  9]] <class 'numpy.ndarray'>\n",
            "\n",
            "\n",
            "[12 list([9, 12, 3]) list([78, 45]) 65 list([89, 69, [18, 23]])] <class 'numpy.ndarray'>\n"
          ],
          "name": "stdout"
        },
        {
          "output_type": "stream",
          "text": [
            "/usr/local/lib/python3.7/dist-packages/ipykernel_launcher.py:4: VisibleDeprecationWarning: Creating an ndarray from ragged nested sequences (which is a list-or-tuple of lists-or-tuples-or ndarrays with different lengths or shapes) is deprecated. If you meant to do this, you must specify 'dtype=object' when creating the ndarray\n",
            "  after removing the cwd from sys.path.\n"
          ],
          "name": "stderr"
        }
      ]
    },
    {
      "cell_type": "markdown",
      "metadata": {
        "id": "hKlbJO0BRVIa"
      },
      "source": [
        "We can access the dimensions of an array by looking at its `shape` member variable."
      ]
    },
    {
      "cell_type": "code",
      "metadata": {
        "id": "pidd_4prRVIg",
        "colab": {
          "base_uri": "https://localhost:8080/"
        },
        "outputId": "30ef2229-e324-4551-cddc-cb7649721cd2"
      },
      "source": [
        "print (A.shape)"
      ],
      "execution_count": null,
      "outputs": [
        {
          "output_type": "stream",
          "text": [
            "(2, 2)\n"
          ],
          "name": "stdout"
        }
      ]
    },
    {
      "cell_type": "markdown",
      "metadata": {
        "id": "y-OGFNG9-xMN"
      },
      "source": [
        "Con la instrucción `.shape` la matriz $a$ nos muestra una dimensión de 3 filas con 2 columnas. En el caso de la matriz $b$ solo nos muestra el tamaño de las filas, quedando indeterminadas las columnas, al ser irregulares."
      ]
    },
    {
      "cell_type": "code",
      "metadata": {
        "colab": {
          "base_uri": "https://localhost:8080/"
        },
        "id": "KK8oH3Xjae9c",
        "outputId": "a5941a73-ba3f-4e22-cb4d-2fd5e1950623"
      },
      "source": [
        "print(b.shape)  #Matriz 3x2\r\n",
        "print(c.shape) #Matriz 5x(indeterminado) "
      ],
      "execution_count": null,
      "outputs": [
        {
          "output_type": "stream",
          "text": [
            "(3, 2)\n",
            "(5,)\n"
          ],
          "name": "stdout"
        }
      ]
    },
    {
      "cell_type": "markdown",
      "metadata": {
        "id": "JBlcfBPjRVIh"
      },
      "source": [
        "Arrays are indexed in much the same way as lists in Python. Elements of a list begin indexing from $0$ and end at $n - 1$, where $n$ is the length of the array."
      ]
    },
    {
      "cell_type": "code",
      "metadata": {
        "id": "lKBVd2KIRVIi",
        "colab": {
          "base_uri": "https://localhost:8080/"
        },
        "outputId": "2d292ae2-6aca-46af-8111-8a40b42fa44d"
      },
      "source": [
        "print(returns[0], returns[len(returns) - 1])"
      ],
      "execution_count": null,
      "outputs": [
        {
          "output_type": "stream",
          "text": [
            "3.5 4.2\n"
          ],
          "name": "stdout"
        }
      ]
    },
    {
      "cell_type": "code",
      "metadata": {
        "colab": {
          "base_uri": "https://localhost:8080/"
        },
        "id": "0xuNR082bdjq",
        "outputId": "8ee15e2b-86cf-4b60-d3cf-d6851be75a8f"
      },
      "source": [
        "print(a[0], a[len(a)-1]) #Imprime el primero y el ultimo elemento de la matrez, en terminos de filas.\r\n",
        "print(b[0],b[len(b)-1])"
      ],
      "execution_count": null,
      "outputs": [
        {
          "output_type": "stream",
          "text": [
            "5.0 9.0\n",
            "[1 4] [12  9]\n"
          ],
          "name": "stdout"
        }
      ]
    },
    {
      "cell_type": "markdown",
      "metadata": {
        "id": "78M8DGZ3RVIi"
      },
      "source": [
        "We can take a slice of an array using a colon, just like in a list."
      ]
    },
    {
      "cell_type": "code",
      "metadata": {
        "id": "dMvVg7Z1RVIk",
        "colab": {
          "base_uri": "https://localhost:8080/"
        },
        "outputId": "b1ecbb6f-9f57-4f10-ae9e-d05f17e9318f"
      },
      "source": [
        "print (returns[1:3])"
      ],
      "execution_count": 8,
      "outputs": [
        {
          "output_type": "stream",
          "text": [
            "[5. 2.]\n"
          ],
          "name": "stdout"
        }
      ]
    },
    {
      "cell_type": "code",
      "metadata": {
        "colab": {
          "base_uri": "https://localhost:8080/"
        },
        "id": "aKvnksukA2S9",
        "outputId": "daf0f7a7-cfc1-45c1-e8fd-e6ab2a1ed976"
      },
      "source": [
        "print(a[0:2]) #Imprime el elemento en la celda 0 y la celda 1, omitiendo la 2."
      ],
      "execution_count": 9,
      "outputs": [
        {
          "output_type": "stream",
          "text": [
            "[5. 3.]\n"
          ],
          "name": "stdout"
        }
      ]
    },
    {
      "cell_type": "markdown",
      "metadata": {
        "id": "bDcUVc2JRVIk"
      },
      "source": [
        "A slice of an array, like in a list, will select a group of elements in the array starting from the first element indicated and going up to (but not including) the last element indicated.\n",
        "\n",
        "In the case of multidimensional arrays, many of the same conventions with slicing and indexing hold. We can access the first column of a 2-dimensional array like so:"
      ]
    },
    {
      "cell_type": "code",
      "metadata": {
        "id": "8JnXJAviRVIl",
        "colab": {
          "base_uri": "https://localhost:8080/"
        },
        "outputId": "a67c8020-9937-4124-d278-bd80634ef1f6"
      },
      "source": [
        "print (A[:, 0])"
      ],
      "execution_count": 13,
      "outputs": [
        {
          "output_type": "stream",
          "text": [
            "[1 3]\n"
          ],
          "name": "stdout"
        }
      ]
    },
    {
      "cell_type": "code",
      "metadata": {
        "colab": {
          "base_uri": "https://localhost:8080/"
        },
        "id": "zwKhWlNSBeGs",
        "outputId": "8838d026-e4b7-450c-84ac-e5172307e65d"
      },
      "source": [
        "print(b[:,0]) #Imprime todos los datos de la columna 0 "
      ],
      "execution_count": 22,
      "outputs": [
        {
          "output_type": "stream",
          "text": [
            "[ 1  3 12]\n",
            "[1 4]\n"
          ],
          "name": "stdout"
        }
      ]
    },
    {
      "cell_type": "markdown",
      "metadata": {
        "id": "ohcZk0RnRVIm"
      },
      "source": [
        "And the first row of a 2-dimensional array like so:"
      ]
    },
    {
      "cell_type": "code",
      "metadata": {
        "id": "zSLzizPHRVIm",
        "colab": {
          "base_uri": "https://localhost:8080/"
        },
        "outputId": "f97ebcd4-79b5-41aa-e680-aa90f5826536"
      },
      "source": [
        "print (A[0, :])"
      ],
      "execution_count": 24,
      "outputs": [
        {
          "output_type": "stream",
          "text": [
            "[1 2]\n"
          ],
          "name": "stdout"
        }
      ]
    },
    {
      "cell_type": "code",
      "metadata": {
        "colab": {
          "base_uri": "https://localhost:8080/"
        },
        "id": "lVnhRiNNCQ5O",
        "outputId": "b4a8e707-ed29-4543-a4ab-086dce59e6a2"
      },
      "source": [
        "print(b[0,:]) #De la misma forma, puedo decirque que imprima los todos los elementos de la primera fila."
      ],
      "execution_count": 25,
      "outputs": [
        {
          "output_type": "stream",
          "text": [
            "[1 4]\n"
          ],
          "name": "stdout"
        }
      ]
    },
    {
      "cell_type": "markdown",
      "metadata": {
        "id": "WTKQiOo9RVIo"
      },
      "source": [
        "Notice that each slice of the array returns yet another array!"
      ]
    },
    {
      "cell_type": "code",
      "metadata": {
        "id": "7mvWpE8kRVIp",
        "colab": {
          "base_uri": "https://localhost:8080/"
        },
        "outputId": "d2d0fee3-fcfe-4c5e-d7c0-386cc764c163"
      },
      "source": [
        "print (type(A[0,:]))"
      ],
      "execution_count": 26,
      "outputs": [
        {
          "output_type": "stream",
          "text": [
            "<class 'numpy.ndarray'>\n"
          ],
          "name": "stdout"
        }
      ]
    },
    {
      "cell_type": "markdown",
      "metadata": {
        "id": "YVQul5woCsSj"
      },
      "source": [
        "La instrucción `type()` nos muestra que el conjunto de filas de la matriz $b$ es tambien a su vez, otro arreglo."
      ]
    },
    {
      "cell_type": "code",
      "metadata": {
        "colab": {
          "base_uri": "https://localhost:8080/"
        },
        "id": "tGATfJzhCeOD",
        "outputId": "aea9b062-3054-4cc0-ea1c-8d4ff2c76d4a"
      },
      "source": [
        "print(type(b[0,:])) "
      ],
      "execution_count": 27,
      "outputs": [
        {
          "output_type": "stream",
          "text": [
            "<class 'numpy.ndarray'>\n"
          ],
          "name": "stdout"
        }
      ]
    },
    {
      "cell_type": "markdown",
      "metadata": {
        "id": "U-BT413gRVIq"
      },
      "source": [
        "Passing only one index to a 2-dimensional array will result in returning the row with the given index as well, providing us with another way to access individual rows."
      ]
    },
    {
      "cell_type": "code",
      "metadata": {
        "id": "0I7C1t4ORVIr",
        "colab": {
          "base_uri": "https://localhost:8080/"
        },
        "outputId": "c8334acc-41c8-4701-fc03-8552146d57e8"
      },
      "source": [
        "print (A[0])"
      ],
      "execution_count": 29,
      "outputs": [
        {
          "output_type": "stream",
          "text": [
            "[1 2]\n"
          ],
          "name": "stdout"
        }
      ]
    },
    {
      "cell_type": "code",
      "metadata": {
        "colab": {
          "base_uri": "https://localhost:8080/"
        },
        "id": "ozwkKYinDSck",
        "outputId": "7bb530b1-cce7-4fb0-b57a-2ce9bffeb157"
      },
      "source": [
        "print(b[0]) #otra dorma de acceder a las filas de la matriz."
      ],
      "execution_count": 32,
      "outputs": [
        {
          "output_type": "stream",
          "text": [
            "[1 4]\n"
          ],
          "name": "stdout"
        }
      ]
    },
    {
      "cell_type": "markdown",
      "metadata": {
        "id": "QUWGGPDkRVIs"
      },
      "source": [
        "Accessing the index of an individual element will return only the element."
      ]
    },
    {
      "cell_type": "code",
      "metadata": {
        "id": "ajjze7Q0RVIv",
        "colab": {
          "base_uri": "https://localhost:8080/"
        },
        "outputId": "198dc730-4519-471b-8912-7b377852f5ec"
      },
      "source": [
        "print (A[1, 1])"
      ],
      "execution_count": 33,
      "outputs": [
        {
          "output_type": "stream",
          "text": [
            "4\n"
          ],
          "name": "stdout"
        }
      ]
    },
    {
      "cell_type": "code",
      "metadata": {
        "colab": {
          "base_uri": "https://localhost:8080/"
        },
        "id": "hJLwBo6ADYea",
        "outputId": "5c5d4e59-8d16-40dd-cdea-4389f3e9cdc2"
      },
      "source": [
        "print(b[1,1]) #especificación de fila y columna dentro de la matriz, para que me arroje un elemento puntual."
      ],
      "execution_count": 34,
      "outputs": [
        {
          "output_type": "stream",
          "text": [
            "7\n"
          ],
          "name": "stdout"
        }
      ]
    },
    {
      "cell_type": "markdown",
      "metadata": {
        "id": "p9D4afoaRVIw"
      },
      "source": [
        "#### Array functions\n",
        "\n",
        "Functions built into NumPy can be easily called on arrays. Most functions are applied to an array element-wise (as scalar multiplication is). For example, if we call `log()` on an array, the logarithm will be taken of each element."
      ]
    },
    {
      "cell_type": "code",
      "metadata": {
        "id": "ul3gSUPpRVIw",
        "colab": {
          "base_uri": "https://localhost:8080/"
        },
        "outputId": "d7284a47-e6d8-4a21-dc92-3f083e0b1fd3"
      },
      "source": [
        "print (np.log(returns))"
      ],
      "execution_count": 35,
      "outputs": [
        {
          "output_type": "stream",
          "text": [
            "[1.25276297 1.60943791 0.69314718 2.07944154 1.43508453]\n"
          ],
          "name": "stdout"
        }
      ]
    },
    {
      "cell_type": "code",
      "metadata": {
        "colab": {
          "base_uri": "https://localhost:8080/"
        },
        "id": "_oLDvD4YDutx",
        "outputId": "000601f1-2041-4f6e-fd72-5cd40b2d9793"
      },
      "source": [
        "print(np.log(b)) #Arroja el logaritmo natural de cada elemento de la matriz b"
      ],
      "execution_count": 38,
      "outputs": [
        {
          "output_type": "stream",
          "text": [
            "[[0.         1.38629436]\n",
            " [1.09861229 1.94591015]\n",
            " [2.48490665 2.19722458]]\n"
          ],
          "name": "stdout"
        }
      ]
    },
    {
      "cell_type": "markdown",
      "metadata": {
        "id": "2dFviQcQRVIx"
      },
      "source": [
        "Some functions return a single value. This is because they treat the array as a collection (similar to a list), performing the designated function. For example, the `mean()` function will do exactly what you expect, calculating the mean of an array."
      ]
    },
    {
      "cell_type": "code",
      "metadata": {
        "id": "kcOOm7ZJRVIy",
        "colab": {
          "base_uri": "https://localhost:8080/"
        },
        "outputId": "17c2bf94-65d7-44fe-9c03-961eac1c7244"
      },
      "source": [
        "print (np.mean(returns))"
      ],
      "execution_count": 40,
      "outputs": [
        {
          "output_type": "stream",
          "text": [
            "4.54\n"
          ],
          "name": "stdout"
        }
      ]
    },
    {
      "cell_type": "markdown",
      "metadata": {
        "id": "hB_lVekZEv98"
      },
      "source": [
        "De la misma forma, podemos encontrar la **media** de los elementos de la matriz $b$:\r\n",
        "\r\n",
        "$$\\overline{X}=\\frac{x_1+x_2+x_3+x_4+...+x_n}{N}$$"
      ]
    },
    {
      "cell_type": "code",
      "metadata": {
        "colab": {
          "base_uri": "https://localhost:8080/"
        },
        "id": "MVllNzAcEedi",
        "outputId": "3b5d5c8c-eb68-41a6-d89e-7d973959f6b7"
      },
      "source": [
        "print(np.mean(b)) "
      ],
      "execution_count": 41,
      "outputs": [
        {
          "output_type": "stream",
          "text": [
            "6.0\n"
          ],
          "name": "stdout"
        }
      ]
    },
    {
      "cell_type": "markdown",
      "metadata": {
        "id": "EHiozBZaRVI0"
      },
      "source": [
        "Or the `max()` function will return the maximum element of an array."
      ]
    },
    {
      "cell_type": "code",
      "metadata": {
        "id": "itjaq5MJRVI0",
        "colab": {
          "base_uri": "https://localhost:8080/"
        },
        "outputId": "3654e9de-9735-4b60-baaf-c39b403987eb"
      },
      "source": [
        "print (np.max(returns))"
      ],
      "execution_count": 42,
      "outputs": [
        {
          "output_type": "stream",
          "text": [
            "8.0\n"
          ],
          "name": "stdout"
        }
      ]
    },
    {
      "cell_type": "code",
      "metadata": {
        "colab": {
          "base_uri": "https://localhost:8080/"
        },
        "id": "QTSisG9zGmIW",
        "outputId": "4795a226-be9f-475e-a64a-528db3707e0a"
      },
      "source": [
        "print(np.max(b)) #elemento de mayor valor dentro de la matriz b"
      ],
      "execution_count": 43,
      "outputs": [
        {
          "output_type": "stream",
          "text": [
            "12\n"
          ],
          "name": "stdout"
        }
      ]
    },
    {
      "cell_type": "markdown",
      "metadata": {
        "id": "i2ROlNCvRVI1"
      },
      "source": [
        "For further reading on the universal functions in NumPy, check out the [documentation](https://docs.scipy.org/doc/numpy/user/quickstart.html#universal-functions)."
      ]
    },
    {
      "cell_type": "markdown",
      "metadata": {
        "id": "ckCfwzqKRVI2"
      },
      "source": [
        "### Return to the returns\n",
        "\n",
        "Now let's modify our returns array with scalar values. If we add a scalar value to an array it will be added to every element of the array. If we multiply an array by a scalar value it will be multiplied against every element of the array. If we do both, both will happen!"
      ]
    },
    {
      "cell_type": "code",
      "metadata": {
        "scrolled": false,
        "id": "KwesE0IfRVI2",
        "colab": {
          "base_uri": "https://localhost:8080/"
        },
        "outputId": "8dcdeffa-8f9d-4cda-8268-a3305e8e2f12"
      },
      "source": [
        "returns*2 + 5"
      ],
      "execution_count": 44,
      "outputs": [
        {
          "output_type": "execute_result",
          "data": {
            "text/plain": [
              "array([12. , 15. ,  9. , 21. , 13.4])"
            ]
          },
          "metadata": {
            "tags": []
          },
          "execution_count": 44
        }
      ]
    },
    {
      "cell_type": "code",
      "metadata": {
        "colab": {
          "base_uri": "https://localhost:8080/"
        },
        "id": "CQPHKGslG1TW",
        "outputId": "338ad48d-d80d-412f-af35-95ad1fba5935"
      },
      "source": [
        "print(b)\r\n",
        "print(\"\\n\")\r\n",
        "print(b*3) #Si multiplicamos un escalar por una matriz, este afectará cada elemento de ella."
      ],
      "execution_count": 47,
      "outputs": [
        {
          "output_type": "stream",
          "text": [
            "[[ 1  4]\n",
            " [ 3  7]\n",
            " [12  9]]\n",
            "\n",
            "\n",
            "[[ 3 12]\n",
            " [ 9 21]\n",
            " [36 27]]\n"
          ],
          "name": "stdout"
        }
      ]
    },
    {
      "cell_type": "markdown",
      "metadata": {
        "id": "Bnv6LGZjRVI3"
      },
      "source": [
        "NumPy also has functions specifically built to operate on arrays. Let's take the mean and standard deviation of this group of returns."
      ]
    },
    {
      "cell_type": "code",
      "metadata": {
        "id": "EcdqZX5bRVI3",
        "colab": {
          "base_uri": "https://localhost:8080/"
        },
        "outputId": "1e7b0c34-233a-4d5c-efb4-ff8f839fd745"
      },
      "source": [
        "print (\"Mean: \", np.mean(returns), \"Std Dev: \", np.std(returns))"
      ],
      "execution_count": 48,
      "outputs": [
        {
          "output_type": "stream",
          "text": [
            "Mean:  4.54 Std Dev:  1.9915822855207364\n"
          ],
          "name": "stdout"
        }
      ]
    },
    {
      "cell_type": "markdown",
      "metadata": {
        "id": "pc9oGEWSH6X1"
      },
      "source": [
        "Ademas de la media, podemos hallar la **desviación estandar**:\r\n",
        "\r\n",
        "$$\\sigma= \\sqrt{\\frac{\\sum_{i=1}^n\\cdot (x_i- \\overline{x})^2 \\cdot f_i}{N}}$$"
      ]
    },
    {
      "cell_type": "code",
      "metadata": {
        "colab": {
          "base_uri": "https://localhost:8080/"
        },
        "id": "eY10sGCVH2v7",
        "outputId": "b511a9cf-160e-470b-de7e-9b4c4a21ed3c"
      },
      "source": [
        "print(\"Media: \",np.mean(b),\" Desviación estandar:\",np.std(b))"
      ],
      "execution_count": 51,
      "outputs": [
        {
          "output_type": "stream",
          "text": [
            "Media:  6.0  Desviación estandar: 3.7416573867739413\n"
          ],
          "name": "stdout"
        }
      ]
    },
    {
      "cell_type": "markdown",
      "metadata": {
        "id": "gjKcTcPQRVI5"
      },
      "source": [
        "Let's simulate a universe of stocks using NumPy's functions. First we need to create the arrays to hold the assets and returns that we will use to build a portfolio. This is because arrays are created with a fixed size. Their dimensions can't be changed without creating a new array."
      ]
    },
    {
      "cell_type": "code",
      "metadata": {
        "collapsed": true,
        "id": "eaKCqJOORVI6"
      },
      "source": [
        "N = 10\n",
        "assets = np.zeros((N, 100))\n",
        "returns = np.zeros((N, 100))"
      ],
      "execution_count": 79,
      "outputs": []
    },
    {
      "cell_type": "code",
      "metadata": {
        "id": "fu_mDqCfKC-6"
      },
      "source": [
        "M= 5\r\n",
        "activo= np.zeros((M,50)) #Al ingresar dos valores, deben encerrarse en () para especificar la tupla.\r\n",
        "devoluciones= np.zeros((M, 50))"
      ],
      "execution_count": 76,
      "outputs": []
    },
    {
      "cell_type": "markdown",
      "metadata": {
        "id": "SOu3cMLxRVI7"
      },
      "source": [
        "This function, `zeroes()`, creates a NumPy array with the given dimensions that is entirely filled in with $0$. We can pass a single value or a tuple of as many dimensions as we like. Passing in the tuple `(N, 100)`, will return a two-dimensional array with $N$ rows and $100$ columns. Our result is a $N \\times 100$ array.\n",
        "\n",
        "Now we will simulate a base asset. We want the universe of stocks to be correlated with each other so we will use this initial value to generate the others."
      ]
    },
    {
      "cell_type": "code",
      "metadata": {
        "id": "n7FBwablRVI8"
      },
      "source": [
        "R_1 = np.random.normal(1.01, 0.03, 100)\n",
        "returns[0] = R_1\n",
        "assets[0] = np.cumprod(R_1)"
      ],
      "execution_count": 78,
      "outputs": []
    },
    {
      "cell_type": "markdown",
      "metadata": {
        "id": "J6iSiTuwWciR"
      },
      "source": [
        " `np.random.normal(<media>,<desviación estandar>,<numero elementos>)` "
      ]
    },
    {
      "cell_type": "code",
      "metadata": {
        "id": "ELL7Axk8L5g_"
      },
      "source": [
        "R2= np.random.normal(1.02, 0.05, 50)\r\n",
        "devoluciones[0]=R2\r\n",
        "activo[0]=np.cumprod(R2)\r\n"
      ],
      "execution_count": 77,
      "outputs": []
    },
    {
      "cell_type": "markdown",
      "metadata": {
        "id": "36MmUbYMRVI8"
      },
      "source": [
        "The `random` module in NumPy is exceedingly useful. It contains methods for sampling from many different probability distributions, some of which are covered in the [random variables lecture](https://www.quantopian.com/lectures/random-variables) in the Quantopian lecture series. In this case we draw $N = 100$ random samples from a normal distribution with mean $1.01$ and standard deviation $0.03$. We treat these as the daily percentage returns of our asset and take the cumulative product of these samples to get the current price.\n",
        "\n",
        "The way we have generated our universe, the the individual $R_i$ vectors are each 1-dimensional arrays and the `returns` and `assets` variables contain 2-dimensional arrays. Above, we set the initial row of both `returns` and `assets` to be the first $R_i$ vector and the cumulative asset price based on those returns, respectively.\n",
        "\n",
        "We will now use this base asset to create a few other random assets that are correlated with it."
      ]
    },
    {
      "cell_type": "code",
      "metadata": {
        "id": "1v4cMC9QRVI9"
      },
      "source": [
        "# Generate assets that are correlated with R_1\n",
        "for i in range(1, N):\n",
        "    R_i = R_1 + np.random.normal(0.001, 0.02, 100)\n",
        "    returns[i] = R_i # Set each row of returns equal to the new R_i array\n",
        "    assets[i] = np.cumprod(R_i)\n",
        "    \n",
        "mean_returns = [(np.mean(R) - 1)*100 for R in returns]\n",
        "return_volatilities = [np.std(R) for R in returns]"
      ],
      "execution_count": 80,
      "outputs": []
    },
    {
      "cell_type": "code",
      "metadata": {
        "id": "XgxoBqMyN2iE"
      },
      "source": [
        "for item in range(1, M):\r\n",
        "  Ritem= R2+np.random.normal(0.002, 0.02, 50)\r\n",
        "  devoluciones[item]=Ritem\r\n",
        "  activo[item]=np.cumprod(Ritem)\r\n",
        "\r\n",
        "mediaDevoluciones= [(np.mean(a)-1)*100 for a in devoluciones]\r\n",
        "volatilidadDevoluciones=[np.std(a) for a in devoluciones]\r\n",
        "  "
      ],
      "execution_count": 81,
      "outputs": []
    },
    {
      "cell_type": "markdown",
      "metadata": {
        "id": "7NvSmTkKRVI-"
      },
      "source": [
        "Here we generate the remaining $N - 1$ securities that we want in our universe by adding random noise to $R_1$. This ensures that our $N - 1$ other assets will be correlated with the base asset because they have some underlying information that is shared.\n",
        "\n",
        "Let's plot what the mean return of each asset looks like:"
      ]
    },
    {
      "cell_type": "code",
      "metadata": {
        "scrolled": false,
        "id": "3A3hy9a_RVI_",
        "outputId": "e761ed64-26b9-4a23-ab43-23dcde3be683"
      },
      "source": [
        "plt.bar(np.arange(len(mean_returns)), mean_returns)\n",
        "plt.xlabel('Stock')\n",
        "plt.ylabel('Returns')\n",
        "plt.title('Returns for {0} Random Assets'.format(N));"
      ],
      "execution_count": null,
      "outputs": [
        {
          "output_type": "display_data",
          "data": {
            "image/png": "[encoded data removed]",
            "text/plain": [
              "<matplotlib.figure.Figure at 0x7f4c838c32d0>"
            ]
          },
          "metadata": {
            "tags": []
          }
        }
      ]
    },
    {
      "cell_type": "code",
      "metadata": {
        "colab": {
          "base_uri": "https://localhost:8080/",
          "height": 313
        },
        "id": "ubjzpYVMUVaN",
        "outputId": "2e0b6b09-2b1f-4ee4-9277-801d2b9a4982"
      },
      "source": [
        "plt.bar(np.arange(len(mediaDevoluciones)), mediaDevoluciones)\r\n",
        "plt.xlabel(\"Stock\")\r\n",
        "plt.ylabel(\"Devoluciones\")\r\n",
        "plt.title(\"Devolucion de {0} Activos aleatorios:\".format(M))\r\n"
      ],
      "execution_count": 85,
      "outputs": [
        {
          "output_type": "execute_result",
          "data": {
            "text/plain": [
              "Text(0.5, 1.0, 'Devolucion de 5 Activos aleatorios:')"
            ]
          },
          "metadata": {
            "tags": []
          },
          "execution_count": 85
        },
        {
          "output_type": "display_data",
          "data": {
            "image/png": "[encoded data removed]",
            "text/plain": [
              "<Figure size 432x288 with 1 Axes>"
            ]
          },
          "metadata": {
            "tags": [],
            "needs_background": "light"
          }
        }
      ]
    },
    {
      "cell_type": "markdown",
      "metadata": {
        "id": "Bm3O_4DBRVI_"
      },
      "source": [
        "### Calculating Expected Return\n",
        "\n",
        "So we have a universe of stocks. Great! Now let's put them together in a portfolio and calculate its expected return and risk.\n",
        "\n",
        "We will start off by generating $N$ random weights for each asset in our portfolio."
      ]
    },
    {
      "cell_type": "code",
      "metadata": {
        "id": "ak_0YU-YRVJA"
      },
      "source": [
        "weights = np.random.uniform(0, 1, N)\n",
        "weights = weights/np.sum(weights)"
      ],
      "execution_count": 86,
      "outputs": []
    },
    {
      "cell_type": "code",
      "metadata": {
        "id": "C2yd51iEXqLg"
      },
      "source": [
        "pesos= np.random.uniform(0,1,M)\r\n",
        "pesos= pesos/np.sum(pesos)"
      ],
      "execution_count": 92,
      "outputs": []
    },
    {
      "cell_type": "markdown",
      "metadata": {
        "id": "YUdBYXTDRVJB"
      },
      "source": [
        "We have to rescale the weights so that they all add up to $1$. We do this by scaling the weights vector by the sum total of all the weights. This step ensures that we will be using $100\\%$ of the portfolio's cash.\n",
        "\n",
        "To calculate the mean return of the portfolio, we have to scale each asset's return by its designated weight. We can pull each element of each array and multiply them individually, but it's quicker to use NumPy's linear algebra methods. The function that we want is `dot()`. This will calculate the dot product between two arrays for us. So if $v = \\left[ 1, 2, 3 \\right]$ and $w = \\left[4, 5, 6 \\right]$, then:\n",
        "\n",
        "$$ v \\cdot w = 1 \\times 4 + 2 \\times 5 + 3 \\times 6 $$\n",
        "\n",
        "For a one-dimensional vector, the dot product will multiply each element pointwise and add all the products together! In our case, we have a vector of weights, $\\omega = \\left[ \\omega_1, \\omega_2, \\dots \\omega_N\\right]$ and a vector of returns, $\\mu = \\left[ \\mu_1, \\mu_2, \\dots, \\mu_N\\right]$. If we take the dot product of these two we will get:\n",
        "\n",
        "$$ \\omega \\cdot \\mu = \\omega_1\\mu_1 + \\omega_2\\mu_2 + \\dots + \\omega_N\\mu_N = \\mu_P $$\n",
        "\n",
        "This yields the sum of all the asset returns scaled by their respective weights. This the the portfolio's overall expected return!"
      ]
    },
    {
      "cell_type": "code",
      "metadata": {
        "id": "1uVTNCkBRVJC",
        "colab": {
          "base_uri": "https://localhost:8080/"
        },
        "outputId": "252311ae-5257-4884-a1eb-2c5243f4ed01"
      },
      "source": [
        "p_returns = np.dot(weights, mean_returns)\n",
        "print (\"Expected return of the portfolio: \", p_returns)"
      ],
      "execution_count": 87,
      "outputs": [
        {
          "output_type": "stream",
          "text": [
            "Expected return of the portfolio:  0.33592359616546724\n"
          ],
          "name": "stdout"
        }
      ]
    },
    {
      "cell_type": "code",
      "metadata": {
        "colab": {
          "base_uri": "https://localhost:8080/"
        },
        "id": "hzrFobo3X-l3",
        "outputId": "31fbce71-9b15-4fad-90f0-1b906130d51c"
      },
      "source": [
        "pDevoluciones= np.dot(pesos, mediaDevoluciones)\r\n",
        "print(\"Devolución esperada del portafolio\", pDevoluciones)"
      ],
      "execution_count": 93,
      "outputs": [
        {
          "output_type": "stream",
          "text": [
            "Devolución esperada del portafolio 2.672156045338942\n"
          ],
          "name": "stdout"
        }
      ]
    },
    {
      "cell_type": "markdown",
      "metadata": {
        "id": "G3o9YUjSRVJD"
      },
      "source": [
        "Calculating the mean return is fairly intuitive and does not require too much explanation of linear algebra. However, calculating the variance of our portfolio requires a bit more background."
      ]
    },
    {
      "cell_type": "markdown",
      "metadata": {
        "id": "qX_aTdJ2RVJF"
      },
      "source": [
        "#### Beware of NaN values\n",
        "\n",
        "Most of the time, all of these calculations will work without an issue. However, when working with real data we run the risk of having `nan` values in our arrays. This is NumPy's way of saying that the data there is missing or doesn't exist. These `nan` values can lead to errors in mathematical calculations so it is important to be aware of whether your array contains `nan` values and to know how to drop them."
      ]
    },
    {
      "cell_type": "code",
      "metadata": {
        "id": "NTruYn-lRVJG",
        "colab": {
          "base_uri": "https://localhost:8080/"
        },
        "outputId": "03153f0f-b22b-48fb-a00d-039c175086ef"
      },
      "source": [
        "v = np.array([1, 2, np.nan, 4, 5])\n",
        "print (v)"
      ],
      "execution_count": 94,
      "outputs": [
        {
          "output_type": "stream",
          "text": [
            "[ 1.  2. nan  4.  5.]\n"
          ],
          "name": "stdout"
        }
      ]
    },
    {
      "cell_type": "code",
      "metadata": {
        "colab": {
          "base_uri": "https://localhost:8080/"
        },
        "id": "swoy2jLMYtgR",
        "outputId": "beae3f8e-7699-43a7-8efd-df3c154f418d"
      },
      "source": [
        "w= np.array([32,5,78,np.nan,45])\r\n",
        "print(w)"
      ],
      "execution_count": 97,
      "outputs": [
        {
          "output_type": "stream",
          "text": [
            "[32.  5. 78. nan 45.]\n"
          ],
          "name": "stdout"
        }
      ]
    },
    {
      "cell_type": "markdown",
      "metadata": {
        "id": "zKKAkZajRVJG"
      },
      "source": [
        "Let's see what happens when we try to take the mean of this array."
      ]
    },
    {
      "cell_type": "code",
      "metadata": {
        "id": "ESXpAjjdRVJG",
        "colab": {
          "base_uri": "https://localhost:8080/"
        },
        "outputId": "0c3791f1-a0a8-44af-d01f-b7b395352aea"
      },
      "source": [
        "print (np.mean(v))"
      ],
      "execution_count": 98,
      "outputs": [
        {
          "output_type": "stream",
          "text": [
            "nan\n"
          ],
          "name": "stdout"
        }
      ]
    },
    {
      "cell_type": "code",
      "metadata": {
        "colab": {
          "base_uri": "https://localhost:8080/"
        },
        "id": "0i3CG2QiZEEu",
        "outputId": "30768d8c-77f2-4827-a325-cccc685e0044"
      },
      "source": [
        "print(np.mean(w)) #No genera la media con valores nulos en el arreglo"
      ],
      "execution_count": 101,
      "outputs": [
        {
          "output_type": "stream",
          "text": [
            "nan\n"
          ],
          "name": "stdout"
        }
      ]
    },
    {
      "cell_type": "markdown",
      "metadata": {
        "id": "yAKavPCjRVJI"
      },
      "source": [
        "Clearly, `nan` values can have a large impact on our calculations. Fortunately, we can check for `nan` values with the `isnan()` function."
      ]
    },
    {
      "cell_type": "code",
      "metadata": {
        "id": "pWdJzCL5RVJJ",
        "colab": {
          "base_uri": "https://localhost:8080/"
        },
        "outputId": "4e1b3aea-0c94-4a02-ba75-29fc743b5301"
      },
      "source": [
        "np.isnan(v)"
      ],
      "execution_count": 102,
      "outputs": [
        {
          "output_type": "execute_result",
          "data": {
            "text/plain": [
              "array([False, False,  True, False, False])"
            ]
          },
          "metadata": {
            "tags": []
          },
          "execution_count": 102
        }
      ]
    },
    {
      "cell_type": "code",
      "metadata": {
        "colab": {
          "base_uri": "https://localhost:8080/"
        },
        "id": "bNmsyP4lZSZk",
        "outputId": "62e320bd-3ef7-413f-896a-3e8dca10d2b4"
      },
      "source": [
        "np.isnan(w) # Devuelve un booleano cuando rastrea un arreglo. False cuando no es nulo, True cuando lo es."
      ],
      "execution_count": 105,
      "outputs": [
        {
          "output_type": "execute_result",
          "data": {
            "text/plain": [
              "array([False, False, False,  True, False])"
            ]
          },
          "metadata": {
            "tags": []
          },
          "execution_count": 105
        }
      ]
    },
    {
      "cell_type": "markdown",
      "metadata": {
        "id": "VpHRz6dlRVJM"
      },
      "source": [
        "Calling `isnan()` on an array will call the function on each value of the array, returning a value of `True` if the element is `nan` and `False` if the element is valid. Now, knowing whether your array contains `nan` values is all well and good, but how do we remove `nan`s? Handily enough, NumPy arrays can be indexed by boolean values (`True` or `False`). If we use a boolean array to index an array, we will remove all values of the array that register as `False` under the condition. We use the `isnan()` function in create a boolean array, assigning a `True` value to everything that is *not* `nan` and a `False` to the `nan`s and we use that to index the same array."
      ]
    },
    {
      "cell_type": "code",
      "metadata": {
        "id": "1SgThXgTRVJM",
        "colab": {
          "base_uri": "https://localhost:8080/"
        },
        "outputId": "8a1e4f6a-85af-41ff-9a5a-89e90d87627a"
      },
      "source": [
        "ix = ~np.isnan(v) # the ~ indicates a logical not, inverting the bools\n",
        "print (v[ix]) # We can also just write v = v[~np.isnan(v)]"
      ],
      "execution_count": 108,
      "outputs": [
        {
          "output_type": "stream",
          "text": [
            "[1. 2. 4. 5.]\n"
          ],
          "name": "stdout"
        }
      ]
    },
    {
      "cell_type": "code",
      "metadata": {
        "colab": {
          "base_uri": "https://localhost:8080/"
        },
        "id": "bSlXSFc1aeev",
        "outputId": "a1540055-644a-4bdc-867e-41c25c6d68d2"
      },
      "source": [
        "iw= ~np.isnan(w)\r\n",
        "print(w[iw]) #Imprime el arreglo excluyendo la celda con valor nulo."
      ],
      "execution_count": 116,
      "outputs": [
        {
          "output_type": "stream",
          "text": [
            "[32.  5. 78. 45.]\n"
          ],
          "name": "stdout"
        }
      ]
    },
    {
      "cell_type": "code",
      "metadata": {
        "id": "jRWTo4HgRVJO",
        "colab": {
          "base_uri": "https://localhost:8080/"
        },
        "outputId": "b0e8e058-f03e-4cc0-ec06-74592cbbb0c6"
      },
      "source": [
        "print (np.mean(v[ix])) #Calculamos la media nuevamente."
      ],
      "execution_count": 111,
      "outputs": [
        {
          "output_type": "stream",
          "text": [
            "3.0\n"
          ],
          "name": "stdout"
        }
      ]
    },
    {
      "cell_type": "code",
      "metadata": {
        "colab": {
          "base_uri": "https://localhost:8080/"
        },
        "id": "vbMG6S2PbCln",
        "outputId": "bf7651e6-ffe7-4590-8f9b-507cf8e91717"
      },
      "source": [
        "\r\n",
        "print(np.mean(w[iw]))"
      ],
      "execution_count": 122,
      "outputs": [
        {
          "output_type": "stream",
          "text": [
            "40.0\n"
          ],
          "name": "stdout"
        }
      ]
    },
    {
      "cell_type": "markdown",
      "metadata": {
        "id": "q4ckAIEdRVJO"
      },
      "source": [
        "There are a few shortcuts to this process in the form of NumPy functions specifically built to handle them, such as `nanmean()`."
      ]
    },
    {
      "cell_type": "code",
      "metadata": {
        "id": "auxT2erXRVJP",
        "colab": {
          "base_uri": "https://localhost:8080/"
        },
        "outputId": "baca2607-fe04-446d-ec32-0a498f9ad784"
      },
      "source": [
        "print(np.nanmean(v))"
      ],
      "execution_count": 124,
      "outputs": [
        {
          "output_type": "stream",
          "text": [
            "3.0\n"
          ],
          "name": "stdout"
        }
      ]
    },
    {
      "cell_type": "code",
      "metadata": {
        "colab": {
          "base_uri": "https://localhost:8080/"
        },
        "id": "z5kM51wpcNsD",
        "outputId": "4bd0676e-164a-4163-d6f0-01f5e5bea45b"
      },
      "source": [
        "print(np.nanmean(w)) #Forma resmida de llegar al mismo resultado sin los pasos anteriormente usados."
      ],
      "execution_count": 125,
      "outputs": [
        {
          "output_type": "stream",
          "text": [
            "40.0\n"
          ],
          "name": "stdout"
        }
      ]
    },
    {
      "cell_type": "markdown",
      "metadata": {
        "id": "pJlN2zq0RVJS"
      },
      "source": [
        "The `nanmean()` function simply calculates the mean of the array as if there were no `nan` values at all! There are a few more of these functions, so feel free to read more about them in the [documentation](https://docs.scipy.org/doc/numpy/user/index.html). These indeterminate values are more an issue with data than linear algebra itself so it is helpful that there are ways to handle them."
      ]
    },
    {
      "cell_type": "markdown",
      "metadata": {
        "id": "NyH1uYnZRVJT"
      },
      "source": [
        "### Conclusion\n",
        "\n",
        "Linear algebra is pervasive in finance and in general. For example, the calculation of *optimal* weights according to modern portfolio theory is done using linear algebra techniques. The arrays and functions in NumPy allow us to handle these calculations in an intuitive way. For a quick intro to linear algebra and how to use NumPy to do more significant matrix calculations, proceed to the next section."
      ]
    },
    {
      "cell_type": "markdown",
      "metadata": {
        "id": "S6Hry2o7RVJU"
      },
      "source": [
        "## A brief foray into linear algebra\n",
        "\n",
        "Let's start with a basic overview of some linear algebra. Linear algebra comes down to the multiplication and composition of scalar and matrix values. A scalar value is just a real number that we multiply against an array. When we scale a matrix or array using a scalar, we multiply each individual element of that matrix or array by the scalar.\n",
        "\n",
        "A matrix is a collection of values, typically represented by an $m \\times n$ grid, where $m$ is the number of rows and $n$ is the number of columns. The edge lengths $m$ and $n$ do not necessarily have to be different. If we have $m = n$, we call this a square matrix. A particularly interesting case of a matrix is when $m = 1$ or $n = 1$. In this case we have a special case of a matrix that we call a vector. While there is a matrix object in NumPy we will be doing everything using NumPy arrays because they can have dimensions greater than $2$. For the purpose of this section, we will be using matrix and array interchangeably.\n",
        "\n",
        "We can express the matrix equation as:\n",
        "\n",
        "$$ y = A\\cdot x $$\n",
        "\n",
        "Where $A$ is an $m \\times n$ matrix, $y$ is a $m \\times 1$ vector, and $x$ is a $n \\times 1$ vector. On the right-hand side of the equation we are multiplying a matrix by a vector. This requires a little bit more clarification, lest we think that we can go about multiplying any matrices by any other matrices.\n",
        "\n",
        "#### Matrix multiplication\n",
        "\n",
        "With matrix multiplication, the order in which the matrices are multiplied matters. Multiplying a matrix on the left side by another matrix may be just fine, but multiplying on the right may be undefined."
      ]
    },
    {
      "cell_type": "code",
      "metadata": {
        "collapsed": true,
        "id": "bFCrs-mhRVJU"
      },
      "source": [
        "A = np.array([\n",
        "        [1, 2, 3, 12, 6],\n",
        "        [4, 5, 6, 15, 20],\n",
        "        [7, 8, 9, 10, 10]        \n",
        "    ])\n",
        "B = np.array([\n",
        "        [4, 4, 2],\n",
        "        [2, 3, 1],\n",
        "        [6, 5, 8],\n",
        "        [9, 9, 9]\n",
        "    ])"
      ],
      "execution_count": 133,
      "outputs": []
    },
    {
      "cell_type": "code",
      "metadata": {
        "id": "Hr8WfSzcdfla"
      },
      "source": [
        "C= np.array([\r\n",
        "             [1,2,3],\r\n",
        "             [89,1,4],\r\n",
        "             [62,11,21]\r\n",
        "])\r\n",
        "\r\n",
        "D= np.array([\r\n",
        "             [8,9,10],\r\n",
        "             [12,7,3],\r\n",
        "             [45,78,14],\r\n",
        "             [21,32,17]\r\n",
        "])"
      ],
      "execution_count": 134,
      "outputs": []
    },
    {
      "cell_type": "markdown",
      "metadata": {
        "id": "bu3YZ2EmRVJV"
      },
      "source": [
        "Notice that the above-defined matrices, $A$ and $B$, have different dimensions. $A$ is $3 \\times 5$ and $B$ is $4 \\times 3$. The general rule of what can and cannot be multiplied in which order is based on the dimensions of the matrices. Specifically, the number of columns in the matrix on the left must be equal to the number of rows in the matrix on the right. In super informal terms, let's say that we have an $m \\times n$ matrix and a $p \\times q$ matrix. If we multiply the first by the second on the right, we get the following:\n",
        "\n",
        "$$ (m \\times n) \\cdot (p \\times q) = (m \\times q) $$\n",
        "\n",
        "So the resultant product has the same number of rows as the left matrix and the same number of columns as the right matrix. This limitation of matrix multiplication with regards to dimensions is important to keep track of when writing code. To demonstrate this, we use the `dot()` function to multiply our matrices below:"
      ]
    },
    {
      "cell_type": "code",
      "metadata": {
        "id": "yDDa1XKlRVJW",
        "colab": {
          "base_uri": "https://localhost:8080/",
          "height": 209
        },
        "outputId": "4b07269d-8a41-4668-e7f7-1d561161e15c"
      },
      "source": [
        "print (np.dot(A, B)) # El numero de filas de la matriz A deben ser iguales al numero de columnas de la matriz B"
      ],
      "execution_count": 128,
      "outputs": [
        {
          "output_type": "error",
          "ename": "ValueError",
          "evalue": "ignored",
          "traceback": [
            "\u001b[0;31m---------------------------------------------------------------------------\u001b[0m",
            "\u001b[0;31mValueError\u001b[0m                                Traceback (most recent call last)",
            "\u001b[0;32m<ipython-input-128-39086c8c885f>\u001b[0m in \u001b[0;36m<module>\u001b[0;34m()\u001b[0m\n\u001b[0;32m----> 1\u001b[0;31m \u001b[0mprint\u001b[0m \u001b[0;34m(\u001b[0m\u001b[0mnp\u001b[0m\u001b[0;34m.\u001b[0m\u001b[0mdot\u001b[0m\u001b[0;34m(\u001b[0m\u001b[0mA\u001b[0m\u001b[0;34m,\u001b[0m \u001b[0mB\u001b[0m\u001b[0;34m)\u001b[0m\u001b[0;34m)\u001b[0m\u001b[0;34m\u001b[0m\u001b[0;34m\u001b[0m\u001b[0m\n\u001b[0m",
            "\u001b[0;32m<__array_function__ internals>\u001b[0m in \u001b[0;36mdot\u001b[0;34m(*args, **kwargs)\u001b[0m\n",
            "\u001b[0;31mValueError\u001b[0m: shapes (3,5) and (4,3) not aligned: 5 (dim 1) != 4 (dim 0)"
          ]
        }
      ]
    },
    {
      "cell_type": "markdown",
      "metadata": {
        "id": "KnX1y3TxfHd1"
      },
      "source": [
        "$$C= \\begin{bmatrix}\r\n",
        "  1 & 2 & 3 \\\\\r\n",
        "  89 & 1 & 4 \\\\\r\n",
        "  62 & 11 & 21\\\\\r\n",
        "\\end{bmatrix} \\hspace{5mm}\r\n",
        "\r\n",
        "D=  \\begin{bmatrix}\r\n",
        "8 & 9 & 10\\\\\r\n",
        "12 & 7 & 3\\\\\r\n",
        "45 & 78 & 14\\\\\r\n",
        "21 & 32 & 17\\\\\r\n",
        "\\end{bmatrix} $$\r\n",
        "\r\n",
        "\\\\\r\n",
        "\r\n",
        "$C \\cdot D$ no es posible, pero $D \\cdot C$ sí lo es."
      ]
    },
    {
      "cell_type": "code",
      "metadata": {
        "colab": {
          "base_uri": "https://localhost:8080/",
          "height": 209
        },
        "id": "Oy3fyFJiesiP",
        "outputId": "5c88fedb-dfd3-4d52-b6b7-0dc30daa29ac"
      },
      "source": [
        "print(np.dot(C,D))"
      ],
      "execution_count": 135,
      "outputs": [
        {
          "output_type": "error",
          "ename": "ValueError",
          "evalue": "ignored",
          "traceback": [
            "\u001b[0;31m---------------------------------------------------------------------------\u001b[0m",
            "\u001b[0;31mValueError\u001b[0m                                Traceback (most recent call last)",
            "\u001b[0;32m<ipython-input-135-f5d3c143c8ad>\u001b[0m in \u001b[0;36m<module>\u001b[0;34m()\u001b[0m\n\u001b[0;32m----> 1\u001b[0;31m \u001b[0mprint\u001b[0m\u001b[0;34m(\u001b[0m\u001b[0mnp\u001b[0m\u001b[0;34m.\u001b[0m\u001b[0mdot\u001b[0m\u001b[0;34m(\u001b[0m\u001b[0mC\u001b[0m\u001b[0;34m,\u001b[0m\u001b[0mD\u001b[0m\u001b[0;34m)\u001b[0m\u001b[0;34m)\u001b[0m\u001b[0;34m\u001b[0m\u001b[0;34m\u001b[0m\u001b[0m\n\u001b[0m",
            "\u001b[0;32m<__array_function__ internals>\u001b[0m in \u001b[0;36mdot\u001b[0;34m(*args, **kwargs)\u001b[0m\n",
            "\u001b[0;31mValueError\u001b[0m: shapes (3,3) and (4,3) not aligned: 3 (dim 1) != 4 (dim 0)"
          ]
        }
      ]
    },
    {
      "cell_type": "markdown",
      "metadata": {
        "id": "afSm0FKHRVJX"
      },
      "source": [
        "These results make sense in accordance with our rule. Multiplying a $3 \\times 5$ matrix on the right by a $4 \\times 3$ matrix results in an error while multiplying a $4 \\times 3$ matrix on the right by a $3 \\times 5$ matrix results in a $4 \\times 5$ matrix."
      ]
    },
    {
      "cell_type": "code",
      "metadata": {
        "id": "nbBdbXw-RVJX",
        "colab": {
          "base_uri": "https://localhost:8080/"
        },
        "outputId": "c2fdae1c-1d23-4e9f-a41a-4cd669b2cba2"
      },
      "source": [
        "print (np.dot(B, A))"
      ],
      "execution_count": 136,
      "outputs": [
        {
          "output_type": "stream",
          "text": [
            "[[ 34  44  54 128 124]\n",
            " [ 21  27  33  79  82]\n",
            " [ 82 101 120 227 216]\n",
            " [108 135 162 333 324]]\n"
          ],
          "name": "stdout"
        }
      ]
    },
    {
      "cell_type": "code",
      "metadata": {
        "colab": {
          "base_uri": "https://localhost:8080/"
        },
        "id": "iQ5JHFcFhIu1",
        "outputId": "be368d2c-828d-4f5b-f788-c12df996db71"
      },
      "source": [
        "print(np.dot(D,C))"
      ],
      "execution_count": 137,
      "outputs": [
        {
          "output_type": "stream",
          "text": [
            "[[1429  135  270]\n",
            " [ 821   64  127]\n",
            " [7855  322  741]\n",
            " [3923  261  548]]\n"
          ],
          "name": "stdout"
        }
      ]
    },
    {
      "cell_type": "markdown",
      "metadata": {
        "id": "vuvUNXO8RVJX"
      },
      "source": [
        "### Portfolio Variance\n",
        "\n",
        "Let's return to our portfolio example from before. We calculated the expected return of the portfolio, but how do we calculate the variance? We start by trying to evaluate the portfolio as a sum of each individual asset, scaled by it's weight.\n",
        "\n",
        "$$ VAR[P] = VAR[\\omega_1 S_1 + \\omega_2 S_2 + \\cdots + \\omega_N S_N] $$\n",
        "\n",
        "Where $S_0, \\cdots, S_N$ are the assets contained within our universe. If all of our assets were independent of each other, we could simply evaluate this as\n",
        "\n",
        "$$ VAR[P] = VAR[\\omega_1 S_1] + VAR[\\omega_2 S_2] + \\cdots + VAR[\\omega_N S_N] = \\omega_1^2\\sigma_1^2 + \\omega_2^2\\sigma_2^2 + \\cdots + \\omega_N^2\\sigma_N^2 $$\n",
        "\n",
        "However, all of our assets depend on each other by their construction. They are all in some way related to our base asset and therefore each other. We thus have to calculate the variance of the portfolio by including the individual pairwise covariances of each asset. Our formula for the variance of the portfolio:\n",
        "\n",
        "$$ VAR[P] = \\sigma_P^2 = \\sum_i \\omega_i^2\\sigma_i^2 + \\sum_i\\sum_{i\\neq j} \\omega_i\\omega_j\\sigma_i\\sigma_j\\rho_{i, j}, \\ i, j \\in \\lbrace 1, 2, \\cdots, N \\rbrace $$\n",
        "\n",
        "Where $\\rho_{i,j}$ is the correlation between $S_i$ and $S_j$, $\\rho_{i, j} = \\frac{COV[S_i, S_j]}{\\sigma_i\\sigma_j}$. This seems exceedingly complicated, but we can easily handle all of this using NumPy arrays. First, we calculate the covariance matrix that relates all the individual stocks in our universe."
      ]
    },
    {
      "cell_type": "code",
      "metadata": {
        "id": "3ol_EnM6RVJY",
        "colab": {
          "base_uri": "https://localhost:8080/"
        },
        "outputId": "86a22fe0-88a8-43c1-c3ef-f22676db5967"
      },
      "source": [
        "cov_mat = np.cov(returns)\n",
        "print (cov_mat)"
      ],
      "execution_count": 145,
      "outputs": [
        {
          "output_type": "stream",
          "text": [
            "[[0.         0.         0.         0.         0.         0.\n",
            "  0.         0.         0.         0.        ]\n",
            " [0.         0.00105583 0.00060202 0.0007148  0.0007137  0.00061629\n",
            "  0.00063585 0.0006613  0.00057424 0.00062144]\n",
            " [0.         0.00060202 0.00097572 0.00061926 0.0006008  0.00067044\n",
            "  0.00051355 0.00056493 0.00062738 0.00061096]\n",
            " [0.         0.0007148  0.00061926 0.00117064 0.00081335 0.00072483\n",
            "  0.0006566  0.0007929  0.00069619 0.00081127]\n",
            " [0.         0.0007137  0.0006008  0.00081335 0.00119714 0.00071019\n",
            "  0.00060316 0.00075229 0.00067916 0.00083676]\n",
            " [0.         0.00061629 0.00067044 0.00072483 0.00071019 0.00105884\n",
            "  0.00072411 0.00067615 0.0006553  0.00071116]\n",
            " [0.         0.00063585 0.00051355 0.0006566  0.00060316 0.00072411\n",
            "  0.00108449 0.0007129  0.00062879 0.00071169]\n",
            " [0.         0.0006613  0.00056493 0.0007929  0.00075229 0.00067615\n",
            "  0.0007129  0.0011331  0.00067824 0.00078294]\n",
            " [0.         0.00057424 0.00062738 0.00069619 0.00067916 0.0006553\n",
            "  0.00062879 0.00067824 0.0009679  0.00065314]\n",
            " [0.         0.00062144 0.00061096 0.00081127 0.00083676 0.00071116\n",
            "  0.00071169 0.00078294 0.00065314 0.00125481]]\n"
          ],
          "name": "stdout"
        }
      ]
    },
    {
      "cell_type": "code",
      "metadata": {
        "colab": {
          "base_uri": "https://localhost:8080/"
        },
        "id": "G6Ok_O6mhsux",
        "outputId": "8894866c-6f02-4ca2-ad6e-b42fa165c092"
      },
      "source": [
        "varianza2= np.cov(devoluciones)\r\n",
        "print(varianza2)"
      ],
      "execution_count": 139,
      "outputs": [
        {
          "output_type": "stream",
          "text": [
            "[[0.0017461  0.00177952 0.00167719 0.00151963 0.00183981]\n",
            " [0.00177952 0.00237609 0.00172744 0.00161882 0.00189618]\n",
            " [0.00167719 0.00172744 0.00195518 0.0015285  0.00169235]\n",
            " [0.00151963 0.00161882 0.0015285  0.00181243 0.00164795]\n",
            " [0.00183981 0.00189618 0.00169235 0.00164795 0.00231988]]\n"
          ],
          "name": "stdout"
        }
      ]
    },
    {
      "cell_type": "markdown",
      "metadata": {
        "id": "lAhP31koRVJZ"
      },
      "source": [
        "This array is not formatted particularly nicely, but a covariance matrix is a very important concept. The covariance matrix is of the form:\n",
        "\n",
        "$$ \\left[\\begin{matrix}\n",
        "VAR[S_1] & COV[S_1, S_2] & \\cdots & COV[S_1, S_N] \\\\\n",
        "COV[S_2, S_1] & VAR[S_2] & \\cdots & COV[S_2, S_N] \\\\\n",
        "\\vdots & \\vdots & \\ddots & \\vdots \\\\\n",
        "COV[S_N, S_1] & COV[S_N, S_2] & \\cdots & VAR[S_N]\n",
        "\\end{matrix}\\right] $$\n",
        "\n",
        "So each diagonal entry is the variance of that asset at that index and each off-diagonal holds the covariance of two assets indexed by the column and row number. What is important is that once we have the covariance matrix we are able to do some very quick linear algebra to calculate the variance of the overall portfolio. We can represent the variance of the portfolio in array form as:\n",
        "\n",
        "$$ \\sigma_p^2 = \\omega \\ C \\ \\omega^\\intercal$$\n",
        "\n",
        "Where $C$ is the covariance matrix of all the assets and $\\omega$ is the array containing the weights of each individual asset. The superscript $\\intercal$ on the second $\\omega$ listed above denotes the **transpose** of $\\omega$. For a reference on the evaluation of the variance of a portfolio as a matrix equation, please see the Wikipedia article on [modern portfolio theory](https://en.wikipedia.org/wiki/Modern_portfolio_theory).\n",
        "\n",
        "The transpose of an array is what you get when you switch the rows and columns of an array. This has the effect of reflecting an array across what you might imagine as a diagonal. For example, take our array $A$ from before:"
      ]
    },
    {
      "cell_type": "code",
      "metadata": {
        "id": "oA_AohgIRVJa",
        "colab": {
          "base_uri": "https://localhost:8080/"
        },
        "outputId": "18984b4f-4fcd-4c32-f3a2-91fb9a658b6c"
      },
      "source": [
        "print (A)"
      ],
      "execution_count": 140,
      "outputs": [
        {
          "output_type": "stream",
          "text": [
            "[[ 1  2  3 12  6]\n",
            " [ 4  5  6 15 20]\n",
            " [ 7  8  9 10 10]]\n"
          ],
          "name": "stdout"
        }
      ]
    },
    {
      "cell_type": "markdown",
      "metadata": {
        "id": "Zay1HyvwRVJb"
      },
      "source": [
        "The transpose looks like a mirror image of the same array."
      ]
    },
    {
      "cell_type": "code",
      "metadata": {
        "id": "TerwBoB2RVJc",
        "colab": {
          "base_uri": "https://localhost:8080/"
        },
        "outputId": "60b5e2ea-edd7-45e6-a823-3792926ead04"
      },
      "source": [
        "print (np.transpose(A))"
      ],
      "execution_count": 141,
      "outputs": [
        {
          "output_type": "stream",
          "text": [
            "[[ 1  4  7]\n",
            " [ 2  5  8]\n",
            " [ 3  6  9]\n",
            " [12 15 10]\n",
            " [ 6 20 10]]\n"
          ],
          "name": "stdout"
        }
      ]
    },
    {
      "cell_type": "code",
      "metadata": {
        "colab": {
          "base_uri": "https://localhost:8080/"
        },
        "id": "nyunj9lziIpq",
        "outputId": "08c05423-f28e-4a83-c3f0-8b95f9f6692c"
      },
      "source": [
        "print(C)\r\n",
        "print(\"\\n\")\r\n",
        "print(np.transpose(C)) #Matriz transpuesta"
      ],
      "execution_count": 143,
      "outputs": [
        {
          "output_type": "stream",
          "text": [
            "[[ 1  2  3]\n",
            " [89  1  4]\n",
            " [62 11 21]]\n",
            "\n",
            "\n",
            "[[ 1 89 62]\n",
            " [ 2  1 11]\n",
            " [ 3  4 21]]\n"
          ],
          "name": "stdout"
        }
      ]
    },
    {
      "cell_type": "markdown",
      "metadata": {
        "id": "6YmEZrtRRVJy"
      },
      "source": [
        "But $\\omega$ here is a 1-dimensional array, a vector! It makes perfect to take the transpose of $A$, a $3 \\times 5$ array, as the output will be a $5 \\times 3$ array, but a 1-dimensional array is not quite as intuitive. A typical 1-dimensional array can be thought of as a $1 \\times n$ horizontal vector. Thus, taking the tranpose of this array essentially means changing it into a $n \\times 1$ vertical vector. This makes sense because 1-dimensional arrays are still arrays and any multiplication done between 1-dimensional and higher dimensional arrays must keep in line with our dimensionality issue of matrix multiplication.\n",
        "\n",
        "To make a long story short, we think of $\\omega$ as $1 \\times N$ since we have $N$ securities. This makes it so that $\\omega^\\intercal$ is $N \\times 1$. Again, our covariance matrix is $N \\times N$. So the overall multiplication works out like so, in informal terms:\n",
        "\n",
        "$$ \\text{Dimensions}(\\sigma_p^2) = \\text{Dimensions}(\\omega C \\omega^\\intercal) = (1 \\times N)\\cdot (N \\times N)\\cdot (N \\times 1) = (1 \\times 1)$$\n",
        "\n",
        "Multiplying the covariance matrix on the left by the plain horizontal vector and on the right by that vector's transpose results in the calculation of a single scalar ($1 \\times 1$) value, our portfolio's variance.\n",
        "\n",
        "So knowing this, let's proceed and calculate the portfolio variance! We can easily calculate the product of these arrays by using `dot()` for matrix multiplication, though this time we have to do it twice."
      ]
    },
    {
      "cell_type": "code",
      "metadata": {
        "scrolled": false,
        "id": "SRLpeOT4RVJ3",
        "colab": {
          "base_uri": "https://localhost:8080/"
        },
        "outputId": "6c1308fa-8e54-4bff-f580-810ad96f5370"
      },
      "source": [
        "# Calculating the portfolio volatility\n",
        "var_p = np.dot(np.dot(weights, cov_mat), weights.T)\n",
        "vol_p = np.sqrt(var_p)\n",
        "print (\"Portfolio volatility: \", vol_p)"
      ],
      "execution_count": 146,
      "outputs": [
        {
          "output_type": "stream",
          "text": [
            "Portfolio volatility:  0.026615226194318217\n"
          ],
          "name": "stdout"
        }
      ]
    },
    {
      "cell_type": "code",
      "metadata": {
        "colab": {
          "base_uri": "https://localhost:8080/"
        },
        "id": "uDXIcjBfi0Pu",
        "outputId": "774c14a6-3b70-4057-918f-7971dfa0468f"
      },
      "source": [
        "r= np.dot(np.dot(pesos, varianza2), pesos.T)\r\n",
        "s= np.sqrt(r)\r\n",
        "print(\"Volatibilidad de mi portafolio:\", s)"
      ],
      "execution_count": 148,
      "outputs": [
        {
          "output_type": "stream",
          "text": [
            "Volatibilidad de mi portafolio: 0.04160164079076763\n"
          ],
          "name": "stdout"
        }
      ]
    },
    {
      "cell_type": "markdown",
      "metadata": {
        "id": "I03cTnkaRVJ4"
      },
      "source": [
        "To confirm this calculation, let's simply evaluate the volatility of the portfolio using only NumPy functions."
      ]
    },
    {
      "cell_type": "code",
      "metadata": {
        "id": "nz1qgifCRVJ6",
        "colab": {
          "base_uri": "https://localhost:8080/"
        },
        "outputId": "076a32bc-ba71-4ed8-b296-dda5f10fdc1e"
      },
      "source": [
        "# Confirming calculation\n",
        "vol_p_alt = np.sqrt(np.var(np.dot(weights, returns), ddof=1))\n",
        "print (\"Portfolio volatility: \", vol_p_alt)"
      ],
      "execution_count": 149,
      "outputs": [
        {
          "output_type": "stream",
          "text": [
            "Portfolio volatility:  0.02661522619431821\n"
          ],
          "name": "stdout"
        }
      ]
    },
    {
      "cell_type": "code",
      "metadata": {
        "colab": {
          "base_uri": "https://localhost:8080/"
        },
        "id": "ceipeD-XjqA6",
        "outputId": "1a169e4b-6f48-419e-9abb-9bfc9c52b3a3"
      },
      "source": [
        "rs= np.sqrt(np.var(np.dot(pesos, devoluciones), ddof=1))\r\n",
        "print(\"Volatilidad de mi portafolio:\",rs)"
      ],
      "execution_count": 151,
      "outputs": [
        {
          "output_type": "stream",
          "text": [
            "Volatilidad de mi portafolio: 0.04160164079076765\n"
          ],
          "name": "stdout"
        }
      ]
    },
    {
      "cell_type": "markdown",
      "metadata": {
        "id": "lkhJXZ18RVJ7"
      },
      "source": [
        "The `ddof` parameter is a simple integer input that tells the function the number of degrees of freedom to take into account. This is a more statistical concept, but what this tells us that our matrix calculation is correct!\n",
        "\n",
        "A lot of this might not make sense at first glance. It helps to go back and forth between the theory and the code representations until you have a better grasp of the mathematics involved. It is definitely not necessary to be an expert on linear algebra and on matrix operations, but linear algebra can help to streamline the process of working with large amounts of data. For further reading on NumPy, check out the [documentation](https://docs.scipy.org/doc/numpy/user/index.html)."
      ]
    },
    {
      "cell_type": "markdown",
      "metadata": {
        "id": "iLI5aqsLRVJ9"
      },
      "source": [
        "*This presentation is for informational purposes only and does not constitute an offer to sell, a solicitation to buy, or a recommendation for any security; nor does it constitute an offer to provide investment advisory or other services by Quantopian, Inc. (\"Quantopian\"). Nothing contained herein constitutes investment advice or offers any opinion with respect to the suitability of any security, and any views expressed herein should not be taken as advice to buy, sell, or hold any security or as an endorsement of any security or company.  In preparing the information contained herein, Quantopian, Inc. has not taken into account the investment needs, objectives, and financial circumstances of any particular investor. Any views expressed and data illustrated herein were prepared based upon information, believed to be reliable, available to Quantopian, Inc. at the time of publication. Quantopian makes no guarantees as to their accuracy or completeness. All information is subject to change and may quickly become unreliable for various reasons, including changes in market conditions or economic circumstances.*"
      ]
    }
  ]
}